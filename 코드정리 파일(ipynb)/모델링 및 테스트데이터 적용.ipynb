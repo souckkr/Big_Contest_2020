{
 "cells": [
  {
   "cell_type": "markdown",
   "metadata": {},
   "source": [
    "# 전처리"
   ]
  },
  {
   "cell_type": "markdown",
   "metadata": {},
   "source": [
    "## 라이브러리 및 데이터 로딩"
   ]
  },
  {
   "cell_type": "code",
   "execution_count": 1,
   "metadata": {
    "ExecuteTime": {
     "end_time": "2020-09-26T10:56:40.286535Z",
     "start_time": "2020-09-26T10:56:37.403600Z"
    }
   },
   "outputs": [],
   "source": [
    "from sklearn.linear_model import Ridge, LogisticRegression\n",
    "from sklearn.model_selection import train_test_split, cross_val_score\n",
    "from sklearn.feature_extraction.text import CountVectorizer, TfidfVectorizer\n",
    "import pandas as pd"
   ]
  },
  {
   "cell_type": "code",
   "execution_count": 2,
   "metadata": {
    "ExecuteTime": {
     "end_time": "2020-09-26T10:56:40.696444Z",
     "start_time": "2020-09-26T10:56:40.290523Z"
    }
   },
   "outputs": [],
   "source": [
    "data = pd.read_csv('data/train_data_08.csv')"
   ]
  },
  {
   "cell_type": "code",
   "execution_count": 3,
   "metadata": {
    "ExecuteTime": {
     "end_time": "2020-09-26T10:56:40.758272Z",
     "start_time": "2020-09-26T10:56:40.699430Z"
    }
   },
   "outputs": [
    {
     "name": "stdout",
     "output_type": "stream",
     "text": [
      "<class 'pandas.core.frame.DataFrame'>\n",
      "RangeIndex: 35379 entries, 0 to 35378\n",
      "Data columns (total 33 columns):\n",
      " #   Column     Non-Null Count  Dtype  \n",
      "---  ------     --------------  -----  \n",
      " 0   방송일시       35379 non-null  object \n",
      " 1   노출(분)      35379 non-null  float64\n",
      " 2   마더코드       35379 non-null  int64  \n",
      " 3   상품코드       35379 non-null  int64  \n",
      " 4   상품명        35379 non-null  object \n",
      " 5   상품군        35379 non-null  object \n",
      " 6   판매단가       35379 non-null  int64  \n",
      " 7   취급액        35379 non-null  float64\n",
      " 8   세부상품군      35379 non-null  object \n",
      " 9   브랜드        35379 non-null  object \n",
      " 10  중분류        35379 non-null  object \n",
      " 11  소분류        35379 non-null  object \n",
      " 12  시청률        35379 non-null  float64\n",
      " 13  건수         35379 non-null  float64\n",
      " 14  방송날짜       35379 non-null  object \n",
      " 15  방송월        35379 non-null  int64  \n",
      " 16  방송일        35379 non-null  int64  \n",
      " 17  방송요일       35379 non-null  int64  \n",
      " 18  방송시간       35379 non-null  object \n",
      " 19  평일/주말      35379 non-null  int64  \n",
      " 20  공휴일        35379 non-null  int64  \n",
      " 21  계절         35379 non-null  object \n",
      " 22  방송회차       35379 non-null  int64  \n",
      " 23  무이자/일시불    12548 non-null  object \n",
      " 24  프라임시간      35379 non-null  float64\n",
      " 25  평균기온(°C)   35379 non-null  float64\n",
      " 26  강수량(mm)    35379 non-null  float64\n",
      " 27  풍속(m/s)    35379 non-null  float64\n",
      " 28  습도(%)      35379 non-null  float64\n",
      " 29  전운량(10분위)  35379 non-null  float64\n",
      " 30  체감온도       35379 non-null  float64\n",
      " 31  비옴         35379 non-null  int64  \n",
      " 32  뉴스건수       35379 non-null  int64  \n",
      "dtypes: float64(11), int64(11), object(11)\n",
      "memory usage: 8.9+ MB\n"
     ]
    }
   ],
   "source": [
    "data.info()"
   ]
  },
  {
   "cell_type": "code",
   "execution_count": 4,
   "metadata": {
    "ExecuteTime": {
     "end_time": "2020-09-26T10:56:40.788193Z",
     "start_time": "2020-09-26T10:56:40.761265Z"
    }
   },
   "outputs": [],
   "source": [
    "# 필요 없는 칼럼 제거\n",
    "data.drop(['방송일시','마더코드','상품코드','상품명','시청률','건수','방송날짜'], axis=1, inplace=True)\n",
    "data.drop(['세부상품군','강수량(mm)','풍속(m/s)','습도(%)','전운량(10분위)','평균기온(°C)'], axis=1, inplace=True)"
   ]
  },
  {
   "cell_type": "code",
   "execution_count": 5,
   "metadata": {
    "ExecuteTime": {
     "end_time": "2020-09-26T10:56:40.835067Z",
     "start_time": "2020-09-26T10:56:40.792183Z"
    }
   },
   "outputs": [],
   "source": [
    "# 일시불 = 1, 무이자 = 2, 포함 x = 0\n",
    "data.loc[data['무이자/일시불'] == '일시불', '무이자/일시불'] = 1\n",
    "data.loc[data['무이자/일시불'] == '무이자', '무이자/일시불'] = 2\n",
    "data.loc[data['무이자/일시불'].isnull(), '무이자/일시불'] = 0\n",
    "data['무이자/일시불'] = data['무이자/일시불'].astype('int64')"
   ]
  },
  {
   "cell_type": "code",
   "execution_count": 6,
   "metadata": {
    "ExecuteTime": {
     "end_time": "2020-09-26T10:56:40.851025Z",
     "start_time": "2020-09-26T10:56:40.839058Z"
    }
   },
   "outputs": [],
   "source": [
    "data['무이자/일시불'] = data['무이자/일시불'].astype('int64')"
   ]
  },
  {
   "cell_type": "code",
   "execution_count": 7,
   "metadata": {
    "ExecuteTime": {
     "end_time": "2020-09-26T10:56:40.943778Z",
     "start_time": "2020-09-26T10:56:40.857009Z"
    },
    "scrolled": true
   },
   "outputs": [
    {
     "data": {
      "text/html": [
       "<div>\n",
       "<style scoped>\n",
       "    .dataframe tbody tr th:only-of-type {\n",
       "        vertical-align: middle;\n",
       "    }\n",
       "\n",
       "    .dataframe tbody tr th {\n",
       "        vertical-align: top;\n",
       "    }\n",
       "\n",
       "    .dataframe thead th {\n",
       "        text-align: right;\n",
       "    }\n",
       "</style>\n",
       "<table border=\"1\" class=\"dataframe\">\n",
       "  <thead>\n",
       "    <tr style=\"text-align: right;\">\n",
       "      <th></th>\n",
       "      <th>노출(분)</th>\n",
       "      <th>상품군</th>\n",
       "      <th>판매단가</th>\n",
       "      <th>취급액</th>\n",
       "      <th>브랜드</th>\n",
       "      <th>중분류</th>\n",
       "      <th>소분류</th>\n",
       "      <th>방송월</th>\n",
       "      <th>방송일</th>\n",
       "      <th>방송요일</th>\n",
       "      <th>방송시간</th>\n",
       "      <th>평일/주말</th>\n",
       "      <th>공휴일</th>\n",
       "      <th>계절</th>\n",
       "      <th>방송회차</th>\n",
       "      <th>무이자/일시불</th>\n",
       "      <th>프라임시간</th>\n",
       "      <th>체감온도</th>\n",
       "      <th>비옴</th>\n",
       "      <th>뉴스건수</th>\n",
       "    </tr>\n",
       "  </thead>\n",
       "  <tbody>\n",
       "    <tr>\n",
       "      <th>0</th>\n",
       "      <td>20.0</td>\n",
       "      <td>의류</td>\n",
       "      <td>39900</td>\n",
       "      <td>2099000.0</td>\n",
       "      <td>테이트</td>\n",
       "      <td>남성의류</td>\n",
       "      <td>니트/가디건</td>\n",
       "      <td>1</td>\n",
       "      <td>1</td>\n",
       "      <td>1</td>\n",
       "      <td>06:00:00</td>\n",
       "      <td>0</td>\n",
       "      <td>1</td>\n",
       "      <td>겨울</td>\n",
       "      <td>1</td>\n",
       "      <td>0</td>\n",
       "      <td>0.0</td>\n",
       "      <td>-9.8</td>\n",
       "      <td>0</td>\n",
       "      <td>336</td>\n",
       "    </tr>\n",
       "    <tr>\n",
       "      <th>1</th>\n",
       "      <td>20.0</td>\n",
       "      <td>의류</td>\n",
       "      <td>39900</td>\n",
       "      <td>4371000.0</td>\n",
       "      <td>테이트</td>\n",
       "      <td>여성의류</td>\n",
       "      <td>니트/가디건</td>\n",
       "      <td>1</td>\n",
       "      <td>1</td>\n",
       "      <td>1</td>\n",
       "      <td>06:00:00</td>\n",
       "      <td>0</td>\n",
       "      <td>1</td>\n",
       "      <td>겨울</td>\n",
       "      <td>1</td>\n",
       "      <td>0</td>\n",
       "      <td>0.0</td>\n",
       "      <td>-9.8</td>\n",
       "      <td>0</td>\n",
       "      <td>336</td>\n",
       "    </tr>\n",
       "    <tr>\n",
       "      <th>2</th>\n",
       "      <td>20.0</td>\n",
       "      <td>의류</td>\n",
       "      <td>39900</td>\n",
       "      <td>3262000.0</td>\n",
       "      <td>테이트</td>\n",
       "      <td>남성의류</td>\n",
       "      <td>니트/가디건</td>\n",
       "      <td>1</td>\n",
       "      <td>1</td>\n",
       "      <td>1</td>\n",
       "      <td>06:20:00</td>\n",
       "      <td>0</td>\n",
       "      <td>1</td>\n",
       "      <td>겨울</td>\n",
       "      <td>2</td>\n",
       "      <td>0</td>\n",
       "      <td>0.0</td>\n",
       "      <td>-9.8</td>\n",
       "      <td>0</td>\n",
       "      <td>336</td>\n",
       "    </tr>\n",
       "    <tr>\n",
       "      <th>3</th>\n",
       "      <td>20.0</td>\n",
       "      <td>의류</td>\n",
       "      <td>39900</td>\n",
       "      <td>6955000.0</td>\n",
       "      <td>테이트</td>\n",
       "      <td>여성의류</td>\n",
       "      <td>니트/가디건</td>\n",
       "      <td>1</td>\n",
       "      <td>1</td>\n",
       "      <td>1</td>\n",
       "      <td>06:20:00</td>\n",
       "      <td>0</td>\n",
       "      <td>1</td>\n",
       "      <td>겨울</td>\n",
       "      <td>2</td>\n",
       "      <td>0</td>\n",
       "      <td>0.0</td>\n",
       "      <td>-9.8</td>\n",
       "      <td>0</td>\n",
       "      <td>336</td>\n",
       "    </tr>\n",
       "    <tr>\n",
       "      <th>4</th>\n",
       "      <td>20.0</td>\n",
       "      <td>의류</td>\n",
       "      <td>39900</td>\n",
       "      <td>6672000.0</td>\n",
       "      <td>테이트</td>\n",
       "      <td>남성의류</td>\n",
       "      <td>니트/가디건</td>\n",
       "      <td>1</td>\n",
       "      <td>1</td>\n",
       "      <td>1</td>\n",
       "      <td>06:40:00</td>\n",
       "      <td>0</td>\n",
       "      <td>1</td>\n",
       "      <td>겨울</td>\n",
       "      <td>3</td>\n",
       "      <td>0</td>\n",
       "      <td>0.0</td>\n",
       "      <td>-9.8</td>\n",
       "      <td>0</td>\n",
       "      <td>336</td>\n",
       "    </tr>\n",
       "    <tr>\n",
       "      <th>...</th>\n",
       "      <td>...</td>\n",
       "      <td>...</td>\n",
       "      <td>...</td>\n",
       "      <td>...</td>\n",
       "      <td>...</td>\n",
       "      <td>...</td>\n",
       "      <td>...</td>\n",
       "      <td>...</td>\n",
       "      <td>...</td>\n",
       "      <td>...</td>\n",
       "      <td>...</td>\n",
       "      <td>...</td>\n",
       "      <td>...</td>\n",
       "      <td>...</td>\n",
       "      <td>...</td>\n",
       "      <td>...</td>\n",
       "      <td>...</td>\n",
       "      <td>...</td>\n",
       "      <td>...</td>\n",
       "      <td>...</td>\n",
       "    </tr>\n",
       "    <tr>\n",
       "      <th>35374</th>\n",
       "      <td>20.0</td>\n",
       "      <td>주방</td>\n",
       "      <td>148000</td>\n",
       "      <td>10157000.0</td>\n",
       "      <td>쿠첸</td>\n",
       "      <td>주방가전</td>\n",
       "      <td>전기밥솥</td>\n",
       "      <td>12</td>\n",
       "      <td>31</td>\n",
       "      <td>1</td>\n",
       "      <td>23:40:00</td>\n",
       "      <td>0</td>\n",
       "      <td>0</td>\n",
       "      <td>겨울</td>\n",
       "      <td>2</td>\n",
       "      <td>1</td>\n",
       "      <td>0.0</td>\n",
       "      <td>8.5</td>\n",
       "      <td>0</td>\n",
       "      <td>49</td>\n",
       "    </tr>\n",
       "    <tr>\n",
       "      <th>35375</th>\n",
       "      <td>20.0</td>\n",
       "      <td>주방</td>\n",
       "      <td>178000</td>\n",
       "      <td>50929000.0</td>\n",
       "      <td>쿠첸</td>\n",
       "      <td>주방가전</td>\n",
       "      <td>전기밥솥</td>\n",
       "      <td>1</td>\n",
       "      <td>1</td>\n",
       "      <td>2</td>\n",
       "      <td>00:00:00</td>\n",
       "      <td>0</td>\n",
       "      <td>1</td>\n",
       "      <td>겨울</td>\n",
       "      <td>3</td>\n",
       "      <td>2</td>\n",
       "      <td>0.0</td>\n",
       "      <td>-7.0</td>\n",
       "      <td>0</td>\n",
       "      <td>49</td>\n",
       "    </tr>\n",
       "    <tr>\n",
       "      <th>35376</th>\n",
       "      <td>20.0</td>\n",
       "      <td>주방</td>\n",
       "      <td>168000</td>\n",
       "      <td>104392000.0</td>\n",
       "      <td>쿠첸</td>\n",
       "      <td>주방가전</td>\n",
       "      <td>전기밥솥</td>\n",
       "      <td>1</td>\n",
       "      <td>1</td>\n",
       "      <td>2</td>\n",
       "      <td>00:00:00</td>\n",
       "      <td>0</td>\n",
       "      <td>1</td>\n",
       "      <td>겨울</td>\n",
       "      <td>3</td>\n",
       "      <td>1</td>\n",
       "      <td>0.0</td>\n",
       "      <td>-7.0</td>\n",
       "      <td>0</td>\n",
       "      <td>49</td>\n",
       "    </tr>\n",
       "    <tr>\n",
       "      <th>35377</th>\n",
       "      <td>20.0</td>\n",
       "      <td>주방</td>\n",
       "      <td>158000</td>\n",
       "      <td>13765000.0</td>\n",
       "      <td>쿠첸</td>\n",
       "      <td>주방가전</td>\n",
       "      <td>전기밥솥</td>\n",
       "      <td>1</td>\n",
       "      <td>1</td>\n",
       "      <td>2</td>\n",
       "      <td>00:00:00</td>\n",
       "      <td>0</td>\n",
       "      <td>1</td>\n",
       "      <td>겨울</td>\n",
       "      <td>3</td>\n",
       "      <td>2</td>\n",
       "      <td>0.0</td>\n",
       "      <td>-7.0</td>\n",
       "      <td>0</td>\n",
       "      <td>49</td>\n",
       "    </tr>\n",
       "    <tr>\n",
       "      <th>35378</th>\n",
       "      <td>20.0</td>\n",
       "      <td>주방</td>\n",
       "      <td>148000</td>\n",
       "      <td>46608000.0</td>\n",
       "      <td>쿠첸</td>\n",
       "      <td>주방가전</td>\n",
       "      <td>전기밥솥</td>\n",
       "      <td>1</td>\n",
       "      <td>1</td>\n",
       "      <td>2</td>\n",
       "      <td>00:00:00</td>\n",
       "      <td>0</td>\n",
       "      <td>1</td>\n",
       "      <td>겨울</td>\n",
       "      <td>3</td>\n",
       "      <td>1</td>\n",
       "      <td>0.0</td>\n",
       "      <td>-7.0</td>\n",
       "      <td>0</td>\n",
       "      <td>49</td>\n",
       "    </tr>\n",
       "  </tbody>\n",
       "</table>\n",
       "<p>35379 rows × 20 columns</p>\n",
       "</div>"
      ],
      "text/plain": [
       "       노출(분) 상품군    판매단가          취급액  브랜드   중분류     소분류  방송월  방송일  방송요일  \\\n",
       "0       20.0  의류   39900    2099000.0  테이트  남성의류  니트/가디건    1    1     1   \n",
       "1       20.0  의류   39900    4371000.0  테이트  여성의류  니트/가디건    1    1     1   \n",
       "2       20.0  의류   39900    3262000.0  테이트  남성의류  니트/가디건    1    1     1   \n",
       "3       20.0  의류   39900    6955000.0  테이트  여성의류  니트/가디건    1    1     1   \n",
       "4       20.0  의류   39900    6672000.0  테이트  남성의류  니트/가디건    1    1     1   \n",
       "...      ...  ..     ...          ...  ...   ...     ...  ...  ...   ...   \n",
       "35374   20.0  주방  148000   10157000.0   쿠첸  주방가전    전기밥솥   12   31     1   \n",
       "35375   20.0  주방  178000   50929000.0   쿠첸  주방가전    전기밥솥    1    1     2   \n",
       "35376   20.0  주방  168000  104392000.0   쿠첸  주방가전    전기밥솥    1    1     2   \n",
       "35377   20.0  주방  158000   13765000.0   쿠첸  주방가전    전기밥솥    1    1     2   \n",
       "35378   20.0  주방  148000   46608000.0   쿠첸  주방가전    전기밥솥    1    1     2   \n",
       "\n",
       "           방송시간  평일/주말  공휴일  계절  방송회차  무이자/일시불  프라임시간  체감온도  비옴  뉴스건수  \n",
       "0      06:00:00      0    1  겨울     1        0    0.0  -9.8   0   336  \n",
       "1      06:00:00      0    1  겨울     1        0    0.0  -9.8   0   336  \n",
       "2      06:20:00      0    1  겨울     2        0    0.0  -9.8   0   336  \n",
       "3      06:20:00      0    1  겨울     2        0    0.0  -9.8   0   336  \n",
       "4      06:40:00      0    1  겨울     3        0    0.0  -9.8   0   336  \n",
       "...         ...    ...  ...  ..   ...      ...    ...   ...  ..   ...  \n",
       "35374  23:40:00      0    0  겨울     2        1    0.0   8.5   0    49  \n",
       "35375  00:00:00      0    1  겨울     3        2    0.0  -7.0   0    49  \n",
       "35376  00:00:00      0    1  겨울     3        1    0.0  -7.0   0    49  \n",
       "35377  00:00:00      0    1  겨울     3        2    0.0  -7.0   0    49  \n",
       "35378  00:00:00      0    1  겨울     3        1    0.0  -7.0   0    49  \n",
       "\n",
       "[35379 rows x 20 columns]"
      ]
     },
     "execution_count": 7,
     "metadata": {},
     "output_type": "execute_result"
    }
   ],
   "source": [
    "data"
   ]
  },
  {
   "cell_type": "code",
   "execution_count": 8,
   "metadata": {
    "ExecuteTime": {
     "end_time": "2020-09-26T10:56:40.991650Z",
     "start_time": "2020-09-26T10:56:40.947768Z"
    }
   },
   "outputs": [
    {
     "name": "stdout",
     "output_type": "stream",
     "text": [
      "<class 'pandas.core.frame.DataFrame'>\n",
      "RangeIndex: 35379 entries, 0 to 35378\n",
      "Data columns (total 20 columns):\n",
      " #   Column   Non-Null Count  Dtype  \n",
      "---  ------   --------------  -----  \n",
      " 0   노출(분)    35379 non-null  float64\n",
      " 1   상품군      35379 non-null  object \n",
      " 2   판매단가     35379 non-null  int64  \n",
      " 3   취급액      35379 non-null  float64\n",
      " 4   브랜드      35379 non-null  object \n",
      " 5   중분류      35379 non-null  object \n",
      " 6   소분류      35379 non-null  object \n",
      " 7   방송월      35379 non-null  int64  \n",
      " 8   방송일      35379 non-null  int64  \n",
      " 9   방송요일     35379 non-null  int64  \n",
      " 10  방송시간     35379 non-null  object \n",
      " 11  평일/주말    35379 non-null  int64  \n",
      " 12  공휴일      35379 non-null  int64  \n",
      " 13  계절       35379 non-null  object \n",
      " 14  방송회차     35379 non-null  int64  \n",
      " 15  무이자/일시불  35379 non-null  int64  \n",
      " 16  프라임시간    35379 non-null  float64\n",
      " 17  체감온도     35379 non-null  float64\n",
      " 18  비옴       35379 non-null  int64  \n",
      " 19  뉴스건수     35379 non-null  int64  \n",
      "dtypes: float64(4), int64(10), object(6)\n",
      "memory usage: 5.4+ MB\n"
     ]
    }
   ],
   "source": [
    "data.info()"
   ]
  },
  {
   "cell_type": "code",
   "execution_count": 9,
   "metadata": {
    "ExecuteTime": {
     "end_time": "2020-09-26T10:56:42.515576Z",
     "start_time": "2020-09-26T10:56:40.996637Z"
    }
   },
   "outputs": [
    {
     "data": {
      "text/plain": [
       "<matplotlib.axes._subplots.AxesSubplot at 0x2d31d559e08>"
      ]
     },
     "execution_count": 9,
     "metadata": {},
     "output_type": "execute_result"
    },
    {
     "name": "stderr",
     "output_type": "stream",
     "text": [
      "C:\\Users\\YOO\\anaconda3\\lib\\site-packages\\matplotlib\\backends\\backend_agg.py:211: RuntimeWarning: Glyph 52712 missing from current font.\n",
      "  font.set_text(s, 0.0, flags=flags)\n",
      "C:\\Users\\YOO\\anaconda3\\lib\\site-packages\\matplotlib\\backends\\backend_agg.py:211: RuntimeWarning: Glyph 44553 missing from current font.\n",
      "  font.set_text(s, 0.0, flags=flags)\n",
      "C:\\Users\\YOO\\anaconda3\\lib\\site-packages\\matplotlib\\backends\\backend_agg.py:211: RuntimeWarning: Glyph 50529 missing from current font.\n",
      "  font.set_text(s, 0.0, flags=flags)\n",
      "C:\\Users\\YOO\\anaconda3\\lib\\site-packages\\matplotlib\\backends\\backend_agg.py:180: RuntimeWarning: Glyph 52712 missing from current font.\n",
      "  font.set_text(s, 0, flags=flags)\n",
      "C:\\Users\\YOO\\anaconda3\\lib\\site-packages\\matplotlib\\backends\\backend_agg.py:180: RuntimeWarning: Glyph 44553 missing from current font.\n",
      "  font.set_text(s, 0, flags=flags)\n",
      "C:\\Users\\YOO\\anaconda3\\lib\\site-packages\\matplotlib\\backends\\backend_agg.py:180: RuntimeWarning: Glyph 50529 missing from current font.\n",
      "  font.set_text(s, 0, flags=flags)\n"
     ]
    },
    {
     "data": {
      "image/png": "[encoded data removed]",
      "text/plain": [
       "<Figure size 432x288 with 1 Axes>"
      ]
     },
     "metadata": {
      "needs_background": "light"
     },
     "output_type": "display_data"
    }
   ],
   "source": [
    "#타겟변수 정규화(로그)\n",
    "import matplotlib.pyplot as plt\n",
    "import seaborn as sns\n",
    "%matplotlib inline\n",
    "\n",
    "y = data['취급액']\n",
    "plt.figure(figsize=(6,4))\n",
    "sns.distplot(y, kde=False)"
   ]
  },
  {
   "cell_type": "code",
   "execution_count": 10,
   "metadata": {
    "ExecuteTime": {
     "end_time": "2020-09-26T10:56:42.924485Z",
     "start_time": "2020-09-26T10:56:42.519565Z"
    }
   },
   "outputs": [
    {
     "data": {
      "text/plain": [
       "<matplotlib.axes._subplots.AxesSubplot at 0x2d31ef1eb48>"
      ]
     },
     "execution_count": 10,
     "metadata": {},
     "output_type": "execute_result"
    },
    {
     "name": "stderr",
     "output_type": "stream",
     "text": [
      "C:\\Users\\YOO\\anaconda3\\lib\\site-packages\\matplotlib\\backends\\backend_agg.py:211: RuntimeWarning: Glyph 52712 missing from current font.\n",
      "  font.set_text(s, 0.0, flags=flags)\n",
      "C:\\Users\\YOO\\anaconda3\\lib\\site-packages\\matplotlib\\backends\\backend_agg.py:211: RuntimeWarning: Glyph 44553 missing from current font.\n",
      "  font.set_text(s, 0.0, flags=flags)\n",
      "C:\\Users\\YOO\\anaconda3\\lib\\site-packages\\matplotlib\\backends\\backend_agg.py:211: RuntimeWarning: Glyph 50529 missing from current font.\n",
      "  font.set_text(s, 0.0, flags=flags)\n",
      "C:\\Users\\YOO\\anaconda3\\lib\\site-packages\\matplotlib\\backends\\backend_agg.py:180: RuntimeWarning: Glyph 52712 missing from current font.\n",
      "  font.set_text(s, 0, flags=flags)\n",
      "C:\\Users\\YOO\\anaconda3\\lib\\site-packages\\matplotlib\\backends\\backend_agg.py:180: RuntimeWarning: Glyph 44553 missing from current font.\n",
      "  font.set_text(s, 0, flags=flags)\n",
      "C:\\Users\\YOO\\anaconda3\\lib\\site-packages\\matplotlib\\backends\\backend_agg.py:180: RuntimeWarning: Glyph 50529 missing from current font.\n",
      "  font.set_text(s, 0, flags=flags)\n"
     ]
    },
    {
     "data": {
      "image/png": "[encoded data removed]",
      "text/plain": [
       "<Figure size 432x288 with 1 Axes>"
      ]
     },
     "metadata": {
      "needs_background": "light"
     },
     "output_type": "display_data"
    }
   ],
   "source": [
    "y_log = np.log1p(y)\n",
    "sns.distplot(y_log, kde=False)"
   ]
  },
  {
   "cell_type": "code",
   "execution_count": 11,
   "metadata": {
    "ExecuteTime": {
     "end_time": "2020-09-26T10:56:42.939445Z",
     "start_time": "2020-09-26T10:56:42.927480Z"
    }
   },
   "outputs": [],
   "source": [
    "data['취급액'] = np.log1p(data['취급액'])"
   ]
  },
  {
   "cell_type": "markdown",
   "metadata": {},
   "source": [
    "## 범주형 변수 처리"
   ]
  },
  {
   "cell_type": "code",
   "execution_count": 12,
   "metadata": {
    "ExecuteTime": {
     "end_time": "2020-09-26T10:56:42.970382Z",
     "start_time": "2020-09-26T10:56:42.943432Z"
    }
   },
   "outputs": [
    {
     "data": {
      "text/plain": [
       "363"
      ]
     },
     "execution_count": 12,
     "metadata": {},
     "output_type": "execute_result"
    }
   ],
   "source": [
    "len(data['브랜드'].unique())"
   ]
  },
  {
   "cell_type": "code",
   "execution_count": 13,
   "metadata": {
    "ExecuteTime": {
     "end_time": "2020-09-26T10:56:43.269561Z",
     "start_time": "2020-09-26T10:56:42.975348Z"
    }
   },
   "outputs": [
    {
     "name": "stdout",
     "output_type": "stream",
     "text": [
      "brand vectorization shape: (35379, 369)\n"
     ]
    }
   ],
   "source": [
    "cnt_vec = CountVectorizer()\n",
    "data_brand = cnt_vec.fit_transform(data['브랜드'])\n",
    "\n",
    "print('brand vectorization shape:',data_brand.shape)"
   ]
  },
  {
   "cell_type": "code",
   "execution_count": 72,
   "metadata": {
    "ExecuteTime": {
     "end_time": "2020-09-26T12:10:41.673285Z",
     "start_time": "2020-09-26T12:10:41.240803Z"
    }
   },
   "outputs": [
    {
     "name": "stdout",
     "output_type": "stream",
     "text": [
      "brand vectorization shape: (35379, 363)\n"
     ]
    }
   ],
   "source": [
    "cnt_vec = LabelBinarizer()\n",
    "data_brand = cnt_vec.fit_transform(data['브랜드'])\n",
    "\n",
    "print('brand vectorization shape:',data_brand.shape)"
   ]
  },
  {
   "cell_type": "code",
   "execution_count": 14,
   "metadata": {
    "ExecuteTime": {
     "end_time": "2020-09-26T10:56:44.102623Z",
     "start_time": "2020-09-26T10:56:43.274548Z"
    }
   },
   "outputs": [],
   "source": [
    "from sklearn.preprocessing import LabelBinarizer\n",
    "\n",
    "item= LabelBinarizer(sparse_output=True)\n",
    "data_item = item.fit_transform(data['상품군'])\n",
    "\n",
    "gung_item= LabelBinarizer(sparse_output=True)\n",
    "data_gung_item = gung_item.fit_transform(data['중분류'])\n",
    "\n",
    "so_item= LabelBinarizer(sparse_output=True)\n",
    "data_so_item = so_item.fit_transform(data['소분류'])\n",
    "\n",
    "prime= LabelBinarizer(sparse_output=True)\n",
    "data_prime = prime.fit_transform(data['프라임시간'])\n",
    "\n",
    "tv_round= LabelBinarizer(sparse_output=True)\n",
    "data_tv_round = tv_round.fit_transform(data['방송회차'])\n",
    "\n",
    "card= LabelBinarizer(sparse_output=True)\n",
    "data_card = card.fit_transform(data['무이자/일시불'])\n",
    "\n",
    "rain= LabelBinarizer(sparse_output=True)\n",
    "data_rain = rain.fit_transform(data['비옴'])"
   ]
  },
  {
   "cell_type": "code",
   "execution_count": 15,
   "metadata": {
    "ExecuteTime": {
     "end_time": "2020-09-26T10:56:44.118580Z",
     "start_time": "2020-09-26T10:56:44.106614Z"
    }
   },
   "outputs": [
    {
     "name": "stdout",
     "output_type": "stream",
     "text": [
      "data_detail_item vectorization shape: (35379, 46)\n"
     ]
    }
   ],
   "source": [
    "print('data_detail_item vectorization shape:',data_gung_item.shape)"
   ]
  },
  {
   "cell_type": "code",
   "execution_count": 16,
   "metadata": {
    "ExecuteTime": {
     "end_time": "2020-09-26T10:56:44.823701Z",
     "start_time": "2020-09-26T10:56:44.124566Z"
    }
   },
   "outputs": [],
   "source": [
    "time= LabelBinarizer(sparse_output=True)\n",
    "data_time = time.fit_transform(data['방송시간'])\n",
    "\n",
    "day= LabelBinarizer(sparse_output=True)\n",
    "data_day = day.fit_transform(data['방송일'])\n",
    "\n",
    "month= LabelBinarizer(sparse_output=True)\n",
    "data_month = month.fit_transform(data['방송월'])\n",
    "\n",
    "weekday= LabelBinarizer(sparse_output=True)\n",
    "data_weekday = weekday.fit_transform(data['방송요일'])\n",
    "\n",
    "weekend= LabelBinarizer(sparse_output=True)\n",
    "data_weekend = weekend.fit_transform(data['평일/주말'])\n",
    "\n",
    "holiday= LabelBinarizer(sparse_output=True)\n",
    "data_holiday = holiday.fit_transform(data['공휴일'])\n",
    "\n",
    "season= LabelBinarizer(sparse_output=True)\n",
    "data_season = season.fit_transform(data['계절'])"
   ]
  },
  {
   "cell_type": "code",
   "execution_count": 17,
   "metadata": {
    "ExecuteTime": {
     "end_time": "2020-09-26T10:56:44.839668Z",
     "start_time": "2020-09-26T10:56:44.825702Z"
    }
   },
   "outputs": [],
   "source": [
    "# 데이터복제\n",
    "data_copy = data.copy()"
   ]
  },
  {
   "cell_type": "code",
   "execution_count": 18,
   "metadata": {
    "ExecuteTime": {
     "end_time": "2020-09-26T10:56:44.884740Z",
     "start_time": "2020-09-26T10:56:44.842658Z"
    }
   },
   "outputs": [
    {
     "name": "stdout",
     "output_type": "stream",
     "text": [
      "<class 'pandas.core.frame.DataFrame'>\n",
      "RangeIndex: 35379 entries, 0 to 35378\n",
      "Data columns (total 20 columns):\n",
      " #   Column   Non-Null Count  Dtype  \n",
      "---  ------   --------------  -----  \n",
      " 0   노출(분)    35379 non-null  float64\n",
      " 1   상품군      35379 non-null  object \n",
      " 2   판매단가     35379 non-null  int64  \n",
      " 3   취급액      35379 non-null  float64\n",
      " 4   브랜드      35379 non-null  object \n",
      " 5   중분류      35379 non-null  object \n",
      " 6   소분류      35379 non-null  object \n",
      " 7   방송월      35379 non-null  int64  \n",
      " 8   방송일      35379 non-null  int64  \n",
      " 9   방송요일     35379 non-null  int64  \n",
      " 10  방송시간     35379 non-null  object \n",
      " 11  평일/주말    35379 non-null  int64  \n",
      " 12  공휴일      35379 non-null  int64  \n",
      " 13  계절       35379 non-null  object \n",
      " 14  방송회차     35379 non-null  int64  \n",
      " 15  무이자/일시불  35379 non-null  int64  \n",
      " 16  프라임시간    35379 non-null  float64\n",
      " 17  체감온도     35379 non-null  float64\n",
      " 18  비옴       35379 non-null  int64  \n",
      " 19  뉴스건수     35379 non-null  int64  \n",
      "dtypes: float64(4), int64(10), object(6)\n",
      "memory usage: 5.4+ MB\n"
     ]
    }
   ],
   "source": [
    "data_copy.info()"
   ]
  },
  {
   "cell_type": "code",
   "execution_count": 19,
   "metadata": {
    "ExecuteTime": {
     "end_time": "2020-09-26T10:56:44.900705Z",
     "start_time": "2020-09-26T10:56:44.886744Z"
    }
   },
   "outputs": [],
   "source": [
    "# 범주형 변수제거\n",
    "data_copy.drop(['상품군','중분류','소분류','방송월','방송요일','방송일','방송시간','평일/주말','공휴일','방송회차',\n",
    "                '계절','브랜드','프라임시간','비옴','무이자/일시불'], axis=1, inplace=True)"
   ]
  },
  {
   "cell_type": "code",
   "execution_count": 20,
   "metadata": {
    "ExecuteTime": {
     "end_time": "2020-09-26T10:56:44.931812Z",
     "start_time": "2020-09-26T10:56:44.904698Z"
    }
   },
   "outputs": [
    {
     "name": "stdout",
     "output_type": "stream",
     "text": [
      "<class 'scipy.sparse.csr.csr_matrix'> <class 'scipy.sparse.csr.csr_matrix'> <class 'scipy.sparse.csr.csr_matrix'> <class 'scipy.sparse.csr.csr_matrix'>\n",
      "<class 'scipy.sparse.csr.csr_matrix'>\n"
     ]
    }
   ],
   "source": [
    "print(type(data_item), type(data_gung_item), type(data_season), type(data_brand))\n",
    "print(type(data_time))"
   ]
  },
  {
   "cell_type": "code",
   "execution_count": 21,
   "metadata": {
    "ExecuteTime": {
     "end_time": "2020-09-26T10:56:44.963880Z",
     "start_time": "2020-09-26T10:56:44.934737Z"
    }
   },
   "outputs": [
    {
     "name": "stdout",
     "output_type": "stream",
     "text": [
      "<class 'pandas.core.frame.DataFrame'>\n",
      "RangeIndex: 35379 entries, 0 to 35378\n",
      "Data columns (total 5 columns):\n",
      " #   Column  Non-Null Count  Dtype  \n",
      "---  ------  --------------  -----  \n",
      " 0   노출(분)   35379 non-null  float64\n",
      " 1   판매단가    35379 non-null  int64  \n",
      " 2   취급액     35379 non-null  float64\n",
      " 3   체감온도    35379 non-null  float64\n",
      " 4   뉴스건수    35379 non-null  int64  \n",
      "dtypes: float64(3), int64(2)\n",
      "memory usage: 1.3 MB\n"
     ]
    }
   ],
   "source": [
    "data_copy.info()"
   ]
  },
  {
   "cell_type": "markdown",
   "metadata": {
    "ExecuteTime": {
     "end_time": "2020-09-21T08:50:58.343376Z",
     "start_time": "2020-09-21T08:50:58.339421Z"
    }
   },
   "source": [
    "# 모델링"
   ]
  },
  {
   "cell_type": "markdown",
   "metadata": {
    "ExecuteTime": {
     "end_time": "2020-09-22T05:50:44.864666Z",
     "start_time": "2020-09-22T05:50:44.860709Z"
    }
   },
   "source": [
    "## MAPE"
   ]
  },
  {
   "cell_type": "code",
   "execution_count": 22,
   "metadata": {
    "ExecuteTime": {
     "end_time": "2020-09-26T10:56:44.979847Z",
     "start_time": "2020-09-26T10:56:44.966880Z"
    }
   },
   "outputs": [],
   "source": [
    "#MAPE\n",
    "from sklearn.metrics import make_scorer\n",
    "\n",
    "def mean_absolute_percentage_error(y_true, y_pred):\n",
    "    y_true, y_pred = np.array(y_true), np.array(y_pred)\n",
    "    return np.mean(np.abs((y_true - y_pred) / y_true)) * 100\n",
    "\n",
    "mape_scorer = make_scorer(mean_absolute_percentage_error, greater_is_better=False)\n"
   ]
  },
  {
   "cell_type": "code",
   "execution_count": 23,
   "metadata": {
    "ExecuteTime": {
     "end_time": "2020-09-26T10:56:45.010762Z",
     "start_time": "2020-09-26T10:56:44.995803Z"
    }
   },
   "outputs": [],
   "source": [
    "from scipy.sparse import hstack\n",
    "import gc # 메모리 정리 -> 속도 빨라짐\n",
    "from sklearn.model_selection import KFold\n",
    "\n",
    "def model_train_predict(model, matrix_list):\n",
    "    X=hstack(matrix_list).tocsr()\n",
    "    X_train, X_test, y_train, y_test = train_test_split(X, data_copy['취급액'], test_size=0.2, random_state=156)\n",
    "    model.fit(X_train, y_train)\n",
    "    preds = model.predict(X_test)\n",
    "    del X, X_train, X_test, y_train\n",
    "    gc.collect()\n",
    "    \n",
    "    return y_test, preds"
   ]
  },
  {
   "cell_type": "code",
   "execution_count": 24,
   "metadata": {
    "ExecuteTime": {
     "end_time": "2020-09-26T10:56:45.042678Z",
     "start_time": "2020-09-26T10:56:45.016747Z"
    }
   },
   "outputs": [],
   "source": [
    "# 독립변수 설정\n",
    "data_copy_target = data_copy.drop('취급액',axis=1)"
   ]
  },
  {
   "cell_type": "markdown",
   "metadata": {
    "ExecuteTime": {
     "end_time": "2020-09-21T08:33:03.672621Z",
     "start_time": "2020-09-21T08:33:03.668630Z"
    }
   },
   "source": [
    "## 일부 범주형변수만 원핫인코딩 후 모델링"
   ]
  },
  {
   "cell_type": "code",
   "execution_count": 25,
   "metadata": {
    "ExecuteTime": {
     "end_time": "2020-09-26T10:56:45.089639Z",
     "start_time": "2020-09-26T10:56:45.046666Z"
    }
   },
   "outputs": [],
   "source": [
    "## Scaling\n",
    "from sklearn.preprocessing import StandardScaler, MinMaxScaler\n",
    "scaler = StandardScaler()\n",
    "scaled_data = scaler.fit_transform(data_copy_target)\n"
   ]
  },
  {
   "cell_type": "code",
   "execution_count": 26,
   "metadata": {
    "ExecuteTime": {
     "end_time": "2020-09-26T10:56:45.340649Z",
     "start_time": "2020-09-26T10:56:45.092627Z"
    }
   },
   "outputs": [
    {
     "name": "stdout",
     "output_type": "stream",
     "text": [
      "3.1363785612490798\n"
     ]
    }
   ],
   "source": [
    "# 일부 범주형 변수 원핫인코딩\n",
    "\n",
    "linear_model = Ridge(solver = 'lsqr', fit_intercept=False)\n",
    "\n",
    "sparse_matrix_list = (scaled_data, data_item, data_gung_item,data_so_item, data_season, data_brand, data_time)\n",
    "linear_preds, y_test = model_train_predict(model=linear_model, matrix_list = sparse_matrix_list)\n",
    "print(mean_absolute_percentage_error(y_test, linear_preds))"
   ]
  },
  {
   "cell_type": "code",
   "execution_count": 27,
   "metadata": {
    "ExecuteTime": {
     "end_time": "2020-09-26T10:56:48.587966Z",
     "start_time": "2020-09-26T10:56:45.343639Z"
    }
   },
   "outputs": [
    {
     "name": "stdout",
     "output_type": "stream",
     "text": [
      "2.447582085501861\n"
     ]
    }
   ],
   "source": [
    "# 일부 범주형 변수 원핫인코딩\n",
    " \n",
    "from lightgbm import LGBMRegressor\n",
    "sparse_matrix_list = (scaled_data, data_item, data_gung_item,data_so_item, data_season, data_brand, data_time)\n",
    "lgbm_model = LGBMRegressor(n_estimators=200, learning_rate=0.5, num_leaves=125, random_state=156)\n",
    "lgbm_preds, y_test = model_train_predict(model=lgbm_model, matrix_list=sparse_matrix_list)\n",
    "print(mean_absolute_percentage_error(y_test, lgbm_preds))"
   ]
  },
  {
   "cell_type": "markdown",
   "metadata": {},
   "source": [
    "## 모든 범주형변수만 원핫인코딩 후 모델링"
   ]
  },
  {
   "cell_type": "code",
   "execution_count": 28,
   "metadata": {
    "ExecuteTime": {
     "end_time": "2020-09-26T10:56:48.634842Z",
     "start_time": "2020-09-26T10:56:48.591956Z"
    }
   },
   "outputs": [],
   "source": [
    "from sklearn.preprocessing import StandardScaler, MinMaxScaler\n",
    "scaler = StandardScaler()\n",
    "scaled_data = scaler.fit_transform(data_copy_target)\n"
   ]
  },
  {
   "cell_type": "code",
   "execution_count": 29,
   "metadata": {
    "ExecuteTime": {
     "end_time": "2020-09-26T10:56:48.919082Z",
     "start_time": "2020-09-26T10:56:48.643817Z"
    }
   },
   "outputs": [
    {
     "name": "stdout",
     "output_type": "stream",
     "text": [
      "2.8096865423246338\n"
     ]
    }
   ],
   "source": [
    "linear_model = Ridge(solver = 'lsqr', fit_intercept=False)\n",
    "\n",
    "sparse_matrix_list = (scaled_data, data_card,data_brand,data_item,data_gung_item,data_so_item,data_prime,data_tv_round,data_time,data_day,data_month,data_weekday,data_weekend,data_holiday,data_season,data_rain)\n",
    "linear_preds, y_test = model_train_predict(model=linear_model, matrix_list = sparse_matrix_list)\n",
    "print(mean_absolute_percentage_error(y_test, linear_preds))"
   ]
  },
  {
   "cell_type": "code",
   "execution_count": 73,
   "metadata": {
    "ExecuteTime": {
     "end_time": "2020-09-26T12:11:30.463161Z",
     "start_time": "2020-09-26T12:11:25.941248Z"
    },
    "scrolled": true
   },
   "outputs": [
    {
     "name": "stdout",
     "output_type": "stream",
     "text": [
      "2.1299809332215465\n"
     ]
    }
   ],
   "source": [
    "\n",
    "from lightgbm import LGBMRegressor\n",
    "sparse_matrix_list = (scaled_data, data_card,data_brand,data_item,data_gung_item,data_so_item,data_prime,data_tv_round,data_time,data_day,data_month,data_weekday,data_weekend,data_holiday,data_season,data_rain)\n",
    "lgbm_model = LGBMRegressor(n_estimators=200, learning_rate=0.5, num_leaves=125, random_state=156)\n",
    "lgbm_preds, y_test = model_train_predict(model=lgbm_model, matrix_list=sparse_matrix_list)\n",
    "print(mean_absolute_percentage_error(y_test, lgbm_preds))"
   ]
  },
  {
   "cell_type": "markdown",
   "metadata": {},
   "source": [
    "### gridsearch"
   ]
  },
  {
   "cell_type": "code",
   "execution_count": 74,
   "metadata": {
    "ExecuteTime": {
     "end_time": "2020-09-26T12:11:31.171268Z",
     "start_time": "2020-09-26T12:11:31.149350Z"
    }
   },
   "outputs": [],
   "source": [
    "from scipy.sparse import hstack\n",
    "import gc # 메모리 정리 -> 속도 빨라짐\n",
    "from sklearn.model_selection import GridSearchCV\n",
    "\n",
    "def new_model_train_predict(model, matrix_list):\n",
    "    X=hstack(matrix_list).tocsr()\n",
    "    X_train, X_test, y_train, y_test = train_test_split(X, data_copy['취급액'], test_size=0.2, random_state=156)\n",
    "    grid_model = GridSearchCV(model, param_grid={'n_estimators':[1000]}, \n",
    "                              scoring=mape_scorer, cv=5)\n",
    "    grid_model.fit(X_train, y_train)\n",
    "    print(grid_model.best_estimator_)\n",
    "    preds = grid_model.predict(X_test)\n",
    "    del X, X_train, X_test, y_train\n",
    "    gc.collect()\n",
    "    \n",
    "    return grid_model, y_test, preds"
   ]
  },
  {
   "cell_type": "code",
   "execution_count": 75,
   "metadata": {
    "ExecuteTime": {
     "end_time": "2020-09-26T12:13:33.529294Z",
     "start_time": "2020-09-26T12:11:31.788619Z"
    },
    "scrolled": false
   },
   "outputs": [
    {
     "name": "stdout",
     "output_type": "stream",
     "text": [
      "LGBMRegressor(boosting_type='gbdt', class_weight=None, colsample_bytree=1.0,\n",
      "              importance_type='split', learning_rate=0.05, max_depth=-1,\n",
      "              min_child_samples=20, min_child_weight=0.001, min_split_gain=0.0,\n",
      "              n_estimators=1000, n_jobs=-1, num_leaves=125, objective=None,\n",
      "              random_state=156, reg_alpha=0.0, reg_lambda=0.0, silent=True,\n",
      "              subsample=1.0, subsample_for_bin=200000, subsample_freq=0)\n",
      "1.9468189355809893\n"
     ]
    }
   ],
   "source": [
    "from lightgbm import LGBMRegressor\n",
    "sparse_matrix_list = (scaled_data, data_card,data_brand,data_item,data_gung_item,data_so_item,data_prime,data_tv_round,data_time,data_day,data_month,data_weekday,data_weekend,data_holiday,data_season,data_rain)\n",
    "lgbm_model = LGBMRegressor(n_estimators=1000, learning_rate=0.05, num_leaves=125, random_state=156)\n",
    "fit_lgbm_model, lgbm_preds, y_test = new_model_train_predict(model=lgbm_model, matrix_list=sparse_matrix_list)\n",
    "print(mean_absolute_percentage_error(y_test, lgbm_preds))\n"
   ]
  },
  {
   "cell_type": "code",
   "execution_count": 251,
   "metadata": {
    "ExecuteTime": {
     "end_time": "2020-09-26T06:26:18.630404Z",
     "start_time": "2020-09-26T06:25:05.627649Z"
    }
   },
   "outputs": [
    {
     "name": "stdout",
     "output_type": "stream",
     "text": [
      "[15:25:05] WARNING: src/objective/regression_obj.cu:152: reg:linear is now deprecated in favor of reg:squarederror.\n",
      "[15:25:18] WARNING: src/objective/regression_obj.cu:152: reg:linear is now deprecated in favor of reg:squarederror.\n",
      "[15:25:31] WARNING: src/objective/regression_obj.cu:152: reg:linear is now deprecated in favor of reg:squarederror.\n",
      "[15:25:44] WARNING: src/objective/regression_obj.cu:152: reg:linear is now deprecated in favor of reg:squarederror.\n",
      "[15:25:55] WARNING: src/objective/regression_obj.cu:152: reg:linear is now deprecated in favor of reg:squarederror.\n",
      "[15:26:06] WARNING: src/objective/regression_obj.cu:152: reg:linear is now deprecated in favor of reg:squarederror.\n",
      "XGBRegressor(base_score=0.5, booster='gbtree', colsample_bylevel=1,\n",
      "             colsample_bynode=1, colsample_bytree=0.5, gamma=0,\n",
      "             importance_type='gain', learning_rate=0.05, max_delta_step=0,\n",
      "             max_depth=3, min_child_weight=1, missing=None, n_estimators=1000,\n",
      "             n_jobs=1, nthread=None, objective='reg:linear', random_state=0,\n",
      "             reg_alpha=0, reg_lambda=1, scale_pos_weight=1, seed=None,\n",
      "             silent=None, subsample=0.8, verbosity=1)\n",
      "2.6768680140456085\n"
     ]
    }
   ],
   "source": [
    "from xgboost import XGBRegressor\n",
    "sparse_matrix_list = (scaled_data, data_brand,data_item,data_gung_item,data_so_item,data_prime,data_tv_round,data_time,data_day,data_month,data_weekday,data_weekend,data_holiday,data_season,data_rain)\n",
    "xgb_model = XGBRegressor(n_estimators=1000, learning_rate=0.05, \n",
    "                       colsample_bytree=0.5, subsample=0.8)\n",
    "fit_xgb_model, xgb_preds, y_test = new_model_train_predict(model=xgb_model, matrix_list=sparse_matrix_list)\n",
    "print(mean_absolute_percentage_error(y_test, xgb_preds))\n"
   ]
  },
  {
   "cell_type": "markdown",
   "metadata": {},
   "source": [
    "## 혼합"
   ]
  },
  {
   "cell_type": "code",
   "execution_count": 54,
   "metadata": {
    "ExecuteTime": {
     "end_time": "2020-09-22T02:48:25.588420Z",
     "start_time": "2020-09-22T02:48:25.580442Z"
    }
   },
   "outputs": [
    {
     "name": "stdout",
     "output_type": "stream",
     "text": [
      "2.338162028597405\n"
     ]
    }
   ],
   "source": [
    "stack_preds = lgbm_preds * 0.5 + xgb_preds * 0.5\n",
    "print(mean_absolute_percentage_error(y_test, stack_preds))\n"
   ]
  },
  {
   "cell_type": "markdown",
   "metadata": {},
   "source": [
    "## 선형회귀(선형, 릿지, 라소)"
   ]
  },
  {
   "cell_type": "code",
   "execution_count": 255,
   "metadata": {
    "ExecuteTime": {
     "end_time": "2020-09-26T06:28:25.097086Z",
     "start_time": "2020-09-26T06:28:21.932480Z"
    }
   },
   "outputs": [],
   "source": [
    "from sklearn.linear_model import LinearRegression, Ridge, Lasso\n",
    "from sklearn.model_selection import train_test_split\n",
    "from sklearn.metrics import mean_squared_error\n",
    "\n",
    "sparse_matrix_list = (scaled_data, data_brand,data_item,data_gung_item,data_so_item,data_prime,data_tv_round,data_time,data_day,data_month,data_weekday,data_weekend,data_holiday,data_season,data_rain)\n",
    "X=hstack(sparse_matrix_list).tocsr()\n",
    "X_train, X_test, y_train, y_test = train_test_split(X, data_copy['취급액'], test_size=0.2, random_state=156)\n",
    "\n",
    "# LinearRegression, Ridge, Lasso 학습, 예측, 평가\n",
    "lr_reg = LinearRegression()\n",
    "lr_reg.fit(X_train, y_train)\n",
    "\n",
    "ridge_reg = Ridge()\n",
    "ridge_reg.fit(X_train, y_train)\n",
    "\n",
    "lasso_reg = Lasso()\n",
    "lasso_reg.fit(X_train, y_train)\n",
    "\n",
    "models = [lr_reg, ridge_reg, lasso_reg]\n",
    "# get_rmses(models)\n"
   ]
  },
  {
   "cell_type": "code",
   "execution_count": 256,
   "metadata": {
    "ExecuteTime": {
     "end_time": "2020-09-26T06:31:32.860056Z",
     "start_time": "2020-09-26T06:29:37.065281Z"
    },
    "scrolled": false
   },
   "outputs": [
    {
     "name": "stdout",
     "output_type": "stream",
     "text": [
      "Ridge 5 CV시 최적 alpha:{'alpha': 0.1}\n",
      "Lasso 5 CV시 최적 alpha:{'alpha': 0.001}\n"
     ]
    }
   ],
   "source": [
    "# 하이퍼 파라미터 튜닝\n",
    "from sklearn.model_selection import GridSearchCV\n",
    "\n",
    "def print_best_params(model, params):\n",
    "    grid_model = GridSearchCV(model, param_grid=params, \n",
    "                              scoring=mape_scorer, cv=5)\n",
    "    grid_model.fit(X_train, y_train)\n",
    "    print('{0} 5 CV시 최적 alpha:{1}'.format(model.__class__.__name__,\n",
    "                                         grid_model.best_params_))\n",
    "    return grid_model.best_estimator_\n",
    "\n",
    "ridge_params = { 'alpha':[0.05, 0.1, 1, 5, 8, 10, 12, 15, 20] }\n",
    "lasso_params = { 'alpha':[0.001, 0.005, 0.008, 0.05, 0.03, 0.1, 0.5, 1,5, 10] }\n",
    "best_rige = print_best_params(ridge_reg, ridge_params)\n",
    "best_lasso = print_best_params(lasso_reg, lasso_params)"
   ]
  },
  {
   "cell_type": "code",
   "execution_count": 257,
   "metadata": {
    "ExecuteTime": {
     "end_time": "2020-09-26T06:31:50.296957Z",
     "start_time": "2020-09-26T06:31:33.142302Z"
    }
   },
   "outputs": [
    {
     "data": {
      "text/plain": [
       "Lasso(alpha=0.001, copy_X=True, fit_intercept=True, max_iter=1000,\n",
       "      normalize=False, positive=False, precompute=False, random_state=None,\n",
       "      selection='cyclic', tol=0.0001, warm_start=False)"
      ]
     },
     "execution_count": 257,
     "metadata": {},
     "output_type": "execute_result"
    }
   ],
   "source": [
    "# 앞의 최적화 alpha값으로 학습데이터로 학습, 테스트 데이터로 예측 및 평가 수행. \n",
    "ridge_reg = Ridge(alpha=0.1)\n",
    "ridge_reg.fit(X_train, y_train)\n",
    "# print(mean_absolute_percentage_error(y_test, ridge_reg))\n",
    "\n",
    "lasso_reg = Lasso(alpha=0.001)\n",
    "lasso_reg.fit(X_train, y_train)\n",
    "# print(mean_absolute_percentage_error(y_test, lasso_reg))\n"
   ]
  },
  {
   "cell_type": "code",
   "execution_count": null,
   "metadata": {},
   "outputs": [],
   "source": []
  },
  {
   "cell_type": "markdown",
   "metadata": {
    "ExecuteTime": {
     "end_time": "2020-09-22T03:27:38.451988Z",
     "start_time": "2020-09-22T03:27:38.447997Z"
    }
   },
   "source": [
    "## stacking"
   ]
  },
  {
   "cell_type": "code",
   "execution_count": 258,
   "metadata": {
    "ExecuteTime": {
     "end_time": "2020-09-26T06:32:07.860617Z",
     "start_time": "2020-09-26T06:32:07.842627Z"
    }
   },
   "outputs": [],
   "source": [
    "from sklearn.model_selection import KFold\n",
    "\n",
    "# 개별 기반 모델에서 최종 메타 모델이 사용할 학습 및 테스트용 데이터를 생성하기 위한 함수. \n",
    "def get_stacking_base_datasets(model, X_train_n, y_train_n, X_test_n, n_folds ):\n",
    "    # 지정된 n_folds값으로 KFold 생성.\n",
    "    kf = KFold(n_splits=n_folds, shuffle=False, random_state=0)\n",
    "    #추후에 메타 모델이 사용할 학습 데이터 반환을 위한 넘파이 배열 초기화 \n",
    "    train_fold_pred = np.zeros((X_train_n.shape[0] ,1 ))\n",
    "    test_pred = np.zeros((X_test_n.shape[0],n_folds))\n",
    "    print(model.__class__.__name__ , ' model 시작 ')\n",
    "    \n",
    "    for folder_counter , (train_index, valid_index) in enumerate(kf.split(X_train_n)):\n",
    "        #입력된 학습 데이터에서 기반 모델이 학습/예측할 폴드 데이터 셋 추출 \n",
    "        print('\\t 폴드 세트: ',folder_counter,' 시작 ')\n",
    "        X_tr = X_train_n[train_index] \n",
    "        y_tr = y_train_n[train_index] \n",
    "        X_te = X_train_n[valid_index]  \n",
    "        \n",
    "        #폴드 세트 내부에서 다시 만들어진 학습 데이터로 기반 모델의 학습 수행.\n",
    "        model.fit(X_tr , y_tr)       \n",
    "        #폴드 세트 내부에서 다시 만들어진 검증 데이터로 기반 모델 예측 후 데이터 저장.\n",
    "        train_fold_pred[valid_index, :] = model.predict(X_te).reshape(-1,1)\n",
    "        #입력된 원본 테스트 데이터를 폴드 세트내 학습된 기반 모델에서 예측 후 데이터 저장. \n",
    "        test_pred[:, folder_counter] = model.predict(X_test_n)\n",
    "            \n",
    "    # 폴드 세트 내에서 원본 테스트 데이터를 예측한 데이터를 평균하여 테스트 데이터로 생성 \n",
    "    test_pred_mean = np.mean(test_pred, axis=1).reshape(-1,1)    \n",
    "    \n",
    "    #train_fold_pred는 최종 메타 모델이 사용하는 학습 데이터, test_pred_mean은 테스트 데이터\n",
    "    return train_fold_pred , test_pred_mean"
   ]
  },
  {
   "cell_type": "code",
   "execution_count": 259,
   "metadata": {
    "ExecuteTime": {
     "end_time": "2020-09-26T06:32:08.516494Z",
     "start_time": "2020-09-26T06:32:08.499504Z"
    }
   },
   "outputs": [],
   "source": [
    "from scipy.sparse import hstack\n",
    "import gc # 메모리 정리 -> 속도 빨라짐\n",
    "from sklearn.model_selection import GridSearchCV\n",
    "\n",
    "def new_model_train_predict(model, matrix_list):\n",
    "    X=hstack(matrix_list).tocsr()\n",
    "    X_train, X_test, y_train, y_test = train_test_split(X, data_copy['취급액'], test_size=0.2, random_state=156)\n",
    "    grid_model = GridSearchCV(model, param_grid={'n_estimators':[1000]}, \n",
    "                              scoring=mape_scorer, cv=5)\n",
    "    grid_model.fit(X_train, y_train)\n",
    "    print(grid_model.best_estimator_)\n",
    "    \n",
    "    return X_train, X_test, y_train, y_test, grid_model"
   ]
  },
  {
   "cell_type": "code",
   "execution_count": 260,
   "metadata": {
    "ExecuteTime": {
     "end_time": "2020-09-26T06:37:00.907001Z",
     "start_time": "2020-09-26T06:32:09.058719Z"
    },
    "scrolled": false
   },
   "outputs": [
    {
     "name": "stdout",
     "output_type": "stream",
     "text": [
      "LGBMRegressor(boosting_type='gbdt', class_weight=None, colsample_bytree=1.0,\n",
      "              importance_type='split', learning_rate=0.05, max_depth=-1,\n",
      "              min_child_samples=20, min_child_weight=0.001, min_split_gain=0.0,\n",
      "              n_estimators=1000, n_jobs=-1, num_leaves=125, objective=None,\n",
      "              random_state=156, reg_alpha=0.0, reg_lambda=0.0, silent=True,\n",
      "              subsample=1.0, subsample_for_bin=200000, subsample_freq=0)\n",
      "[15:33:56] WARNING: src/objective/regression_obj.cu:152: reg:linear is now deprecated in favor of reg:squarederror.\n",
      "[15:34:07] WARNING: src/objective/regression_obj.cu:152: reg:linear is now deprecated in favor of reg:squarederror.\n",
      "[15:34:17] WARNING: src/objective/regression_obj.cu:152: reg:linear is now deprecated in favor of reg:squarederror.\n",
      "[15:34:26] WARNING: src/objective/regression_obj.cu:152: reg:linear is now deprecated in favor of reg:squarederror.\n",
      "[15:34:35] WARNING: src/objective/regression_obj.cu:152: reg:linear is now deprecated in favor of reg:squarederror.\n",
      "[15:34:45] WARNING: src/objective/regression_obj.cu:152: reg:linear is now deprecated in favor of reg:squarederror.\n",
      "XGBRegressor(base_score=0.5, booster='gbtree', colsample_bylevel=1,\n",
      "             colsample_bynode=1, colsample_bytree=0.5, gamma=0,\n",
      "             importance_type='gain', learning_rate=0.05, max_delta_step=0,\n",
      "             max_depth=3, min_child_weight=1, missing=None, n_estimators=1000,\n",
      "             n_jobs=1, nthread=None, objective='reg:linear', random_state=0,\n",
      "             reg_alpha=0, reg_lambda=1, scale_pos_weight=1, seed=None,\n",
      "             silent=None, subsample=0.8, verbosity=1)\n",
      "Ridge 5 CV시 최적 alpha:{'alpha': 0.1}\n",
      "Lasso 5 CV시 최적 alpha:{'alpha': 0.001}\n"
     ]
    }
   ],
   "source": [
    "from scipy.sparse import hstack\n",
    "from sklearn.model_selection import GridSearchCV\n",
    "\n",
    "sparse_matrix_list = (scaled_data, data_brand,data_item,data_gung_item,data_so_item,data_prime,data_tv_round,data_time,data_day,data_month,data_weekday,data_weekend,data_holiday,data_season,data_rain)\n",
    "X=hstack(sparse_matrix_list).tocsr()\n",
    "X_train, X_test, y_train, y_test = train_test_split(X, data_copy['취급액'], test_size=0.2, random_state=156)\n",
    "\n",
    "# LGBMRegressor\n",
    "from lightgbm import LGBMRegressor\n",
    "lgbm_model = LGBMRegressor(n_estimators=1000, learning_rate=0.05, num_leaves=125, random_state=156)\n",
    "lgbm_grid_model = GridSearchCV(lgbm_model, param_grid={'n_estimators':[1000]}, \n",
    "                            scoring=mape_scorer, cv=5)\n",
    "lgbm_grid_model.fit(X_train, y_train)\n",
    "print(lgbm_grid_model.best_estimator_)\n",
    "\n",
    "# XGBRegressor\n",
    "from xgboost import XGBRegressor\n",
    "xgb_model = XGBRegressor(n_estimators=1000, learning_rate=0.05, \n",
    "                       colsample_bytree=0.5, subsample=0.8)\n",
    "xgb_grid_model = GridSearchCV(xgb_model, param_grid={'n_estimators':[1000]}, \n",
    "                            scoring=mape_scorer, cv=5)\n",
    "xgb_grid_model.fit(X_train, y_train)\n",
    "print(xgb_grid_model.best_estimator_)\n",
    "\n",
    "# Ridge, Lasso\n",
    "def print_best_params(model, params):\n",
    "    grid_model = GridSearchCV(model, param_grid=params, \n",
    "                              scoring=mape_scorer, cv=5)\n",
    "    grid_model.fit(X_train, y_train)\n",
    "    print('{0} 5 CV시 최적 alpha:{1}'.format(model.__class__.__name__,\n",
    "                                         grid_model.best_params_))\n",
    "    return grid_model.best_estimator_\n",
    "\n",
    "ridge_params = { 'alpha':[0.05, 0.1, 1, 5, 8, 10, 12, 15, 20] }\n",
    "lasso_params = { 'alpha':[0.001, 0.005, 0.008, 0.05, 0.03, 0.1, 0.5, 1,5, 10] }\n",
    "best_rige = print_best_params(ridge_reg, ridge_params)\n",
    "best_lasso = print_best_params(lasso_reg, lasso_params)"
   ]
  },
  {
   "cell_type": "code",
   "execution_count": 261,
   "metadata": {
    "ExecuteTime": {
     "end_time": "2020-09-26T06:37:21.818822Z",
     "start_time": "2020-09-26T06:37:01.069109Z"
    }
   },
   "outputs": [
    {
     "data": {
      "text/plain": [
       "Lasso(alpha=0.001, copy_X=True, fit_intercept=True, max_iter=1000,\n",
       "      normalize=False, positive=False, precompute=False, random_state=None,\n",
       "      selection='cyclic', tol=0.0001, warm_start=False)"
      ]
     },
     "execution_count": 261,
     "metadata": {},
     "output_type": "execute_result"
    }
   ],
   "source": [
    "# 앞의 최적화 alpha값으로 학습데이터로 학습, 테스트 데이터로 예측 및 평가 수행. \n",
    "ridge_reg = Ridge(alpha=0.1)\n",
    "ridge_reg.fit(X_train, y_train)\n",
    "# print(mean_absolute_percentage_error(y_test, ridge_reg))\n",
    "\n",
    "lasso_reg = Lasso(alpha=0.001)\n",
    "lasso_reg.fit(X_train, y_train)\n",
    "# print(mean_absolute_percentage_error(y_test, lasso_reg))"
   ]
  },
  {
   "cell_type": "code",
   "execution_count": 262,
   "metadata": {
    "ExecuteTime": {
     "end_time": "2020-09-26T06:51:22.243963Z",
     "start_time": "2020-09-26T06:37:22.026267Z"
    },
    "scrolled": false
   },
   "outputs": [
    {
     "name": "stdout",
     "output_type": "stream",
     "text": [
      "GridSearchCV  model 시작 \n",
      "\t 폴드 세트:  0  시작 \n"
     ]
    },
    {
     "name": "stderr",
     "output_type": "stream",
     "text": [
      "C:\\Users\\YOO\\anaconda3\\lib\\site-packages\\sklearn\\model_selection\\_split.py:296: FutureWarning: Setting a random_state has no effect since shuffle is False. This will raise an error in 0.24. You should leave random_state to its default (None), or set shuffle=True.\n",
      "  FutureWarning\n"
     ]
    },
    {
     "name": "stdout",
     "output_type": "stream",
     "text": [
      "[15:37:22] WARNING: src/objective/regression_obj.cu:152: reg:linear is now deprecated in favor of reg:squarederror.\n",
      "[15:37:33] WARNING: src/objective/regression_obj.cu:152: reg:linear is now deprecated in favor of reg:squarederror.\n",
      "[15:37:43] WARNING: src/objective/regression_obj.cu:152: reg:linear is now deprecated in favor of reg:squarederror.\n",
      "[15:37:54] WARNING: src/objective/regression_obj.cu:152: reg:linear is now deprecated in favor of reg:squarederror.\n",
      "[15:38:02] WARNING: src/objective/regression_obj.cu:152: reg:linear is now deprecated in favor of reg:squarederror.\n",
      "[15:38:13] WARNING: src/objective/regression_obj.cu:152: reg:linear is now deprecated in favor of reg:squarederror.\n",
      "\t 폴드 세트:  1  시작 \n",
      "[15:38:24] WARNING: src/objective/regression_obj.cu:152: reg:linear is now deprecated in favor of reg:squarederror.\n",
      "[15:38:34] WARNING: src/objective/regression_obj.cu:152: reg:linear is now deprecated in favor of reg:squarederror.\n",
      "[15:38:43] WARNING: src/objective/regression_obj.cu:152: reg:linear is now deprecated in favor of reg:squarederror.\n",
      "[15:38:51] WARNING: src/objective/regression_obj.cu:152: reg:linear is now deprecated in favor of reg:squarederror.\n",
      "[15:39:01] WARNING: src/objective/regression_obj.cu:152: reg:linear is now deprecated in favor of reg:squarederror.\n",
      "[15:39:16] WARNING: src/objective/regression_obj.cu:152: reg:linear is now deprecated in favor of reg:squarederror.\n",
      "\t 폴드 세트:  2  시작 \n",
      "[15:39:37] WARNING: src/objective/regression_obj.cu:152: reg:linear is now deprecated in favor of reg:squarederror.\n",
      "[15:39:46] WARNING: src/objective/regression_obj.cu:152: reg:linear is now deprecated in favor of reg:squarederror.\n",
      "[15:39:57] WARNING: src/objective/regression_obj.cu:152: reg:linear is now deprecated in favor of reg:squarederror.\n",
      "[15:40:04] WARNING: src/objective/regression_obj.cu:152: reg:linear is now deprecated in favor of reg:squarederror.\n",
      "[15:40:13] WARNING: src/objective/regression_obj.cu:152: reg:linear is now deprecated in favor of reg:squarederror.\n",
      "[15:40:21] WARNING: src/objective/regression_obj.cu:152: reg:linear is now deprecated in favor of reg:squarederror.\n",
      "\t 폴드 세트:  3  시작 \n",
      "[15:40:31] WARNING: src/objective/regression_obj.cu:152: reg:linear is now deprecated in favor of reg:squarederror.\n",
      "[15:40:38] WARNING: src/objective/regression_obj.cu:152: reg:linear is now deprecated in favor of reg:squarederror.\n",
      "[15:40:46] WARNING: src/objective/regression_obj.cu:152: reg:linear is now deprecated in favor of reg:squarederror.\n",
      "[15:40:54] WARNING: src/objective/regression_obj.cu:152: reg:linear is now deprecated in favor of reg:squarederror.\n",
      "[15:41:04] WARNING: src/objective/regression_obj.cu:152: reg:linear is now deprecated in favor of reg:squarederror.\n",
      "[15:41:13] WARNING: src/objective/regression_obj.cu:152: reg:linear is now deprecated in favor of reg:squarederror.\n",
      "\t 폴드 세트:  4  시작 \n",
      "[15:41:25] WARNING: src/objective/regression_obj.cu:152: reg:linear is now deprecated in favor of reg:squarederror.\n",
      "[15:41:34] WARNING: src/objective/regression_obj.cu:152: reg:linear is now deprecated in favor of reg:squarederror.\n",
      "[15:41:49] WARNING: src/objective/regression_obj.cu:152: reg:linear is now deprecated in favor of reg:squarederror.\n",
      "[15:41:59] WARNING: src/objective/regression_obj.cu:152: reg:linear is now deprecated in favor of reg:squarederror.\n",
      "[15:42:07] WARNING: src/objective/regression_obj.cu:152: reg:linear is now deprecated in favor of reg:squarederror.\n",
      "[15:42:15] WARNING: src/objective/regression_obj.cu:152: reg:linear is now deprecated in favor of reg:squarederror.\n",
      "GridSearchCV  model 시작 \n",
      "\t 폴드 세트:  0  시작 \n",
      "\t 폴드 세트:  1  시작 \n",
      "\t 폴드 세트:  2  시작 \n",
      "\t 폴드 세트:  3  시작 \n",
      "\t 폴드 세트:  4  시작 \n",
      "Ridge  model 시작 \n",
      "\t 폴드 세트:  0  시작 \n",
      "\t 폴드 세트:  1  시작 \n",
      "\t 폴드 세트:  2  시작 \n",
      "\t 폴드 세트:  3  시작 \n",
      "\t 폴드 세트:  4  시작 \n"
     ]
    },
    {
     "name": "stderr",
     "output_type": "stream",
     "text": [
      "C:\\Users\\YOO\\anaconda3\\lib\\site-packages\\sklearn\\model_selection\\_split.py:296: FutureWarning: Setting a random_state has no effect since shuffle is False. This will raise an error in 0.24. You should leave random_state to its default (None), or set shuffle=True.\n",
      "  FutureWarning\n"
     ]
    },
    {
     "name": "stdout",
     "output_type": "stream",
     "text": [
      "Lasso  model 시작 \n",
      "\t 폴드 세트:  0  시작 \n",
      "\t 폴드 세트:  1  시작 \n",
      "\t 폴드 세트:  2  시작 \n",
      "\t 폴드 세트:  3  시작 \n",
      "\t 폴드 세트:  4  시작 \n",
      "2.1062624203442173\n"
     ]
    }
   ],
   "source": [
    "# get_stacking_base_datasets( )은 넘파이 ndarray를 인자로 사용하므로 DataFrame을 넘파이로 변환. \n",
    "X_train_n = X_train\n",
    "X_test_n = X_test\n",
    "y_train_n = y_train.values\n",
    "\n",
    "# 각 개별 기반(Base)모델이 생성한 학습용/테스트용 데이터 반환. \n",
    "xgb_train, xgb_test = get_stacking_base_datasets(xgb_grid_model, X_train_n, y_train_n, X_test_n, 5)  \n",
    "lgbm_train, lgbm_test = get_stacking_base_datasets(lgbm_grid_model, X_train_n, y_train_n, X_test_n, 5)\n",
    "ridge_train, ridge_test = get_stacking_base_datasets(ridge_reg, X_train_n, y_train_n, X_test_n, 5)\n",
    "lasso_train, lasso_test = get_stacking_base_datasets(lasso_reg, X_train_n, y_train_n, X_test_n, 5)\n",
    "\n",
    "# 개별 모델이 반환한 학습 및 테스트용 데이터 세트를 Stacking 형태로 결합.  \n",
    "Stack_final_X_train = np.concatenate((ridge_train, lasso_train,xgb_train, lgbm_train), axis=1)\n",
    "Stack_final_X_test = np.concatenate((ridge_test, lasso_test,xgb_test, lgbm_test), axis=1)\n",
    "\n",
    "# 최종 메타 모델은 라쏘 모델을 적용. \n",
    "from sklearn.linear_model import LinearRegression, Ridge, Lasso\n",
    "\n",
    "meta_model_lasso = Lasso(alpha=0.0005)\n",
    "\n",
    "#기반 모델의 예측값을 기반으로 새롭게 만들어진 학습 및 테스트용 데이터로 예측하고 RMSE 측정.\n",
    "meta_model_lasso.fit(Stack_final_X_train, y_train)\n",
    "final = meta_model_lasso.predict(Stack_final_X_test)\n",
    "print(mean_absolute_percentage_error(y_test, final))\n"
   ]
  },
  {
   "cell_type": "code",
   "execution_count": 267,
   "metadata": {
    "ExecuteTime": {
     "end_time": "2020-09-26T06:55:04.654069Z",
     "start_time": "2020-09-26T06:55:04.627181Z"
    }
   },
   "outputs": [
    {
     "name": "stdout",
     "output_type": "stream",
     "text": [
      "2.1070888029773123\n"
     ]
    }
   ],
   "source": [
    "meta_model_ridge = Ridge(alpha=0.1)\n",
    "\n",
    "#기반 모델의 예측값을 기반으로 새롭게 만들어진 학습 및 테스트용 데이터로 예측하고 RMSE 측정.\n",
    "meta_model_ridge.fit(Stack_final_X_train, y_train)\n",
    "final = meta_model_ridge.predict(Stack_final_X_test)\n",
    "print(mean_absolute_percentage_error(y_test, final))"
   ]
  },
  {
   "cell_type": "code",
   "execution_count": 268,
   "metadata": {
    "ExecuteTime": {
     "end_time": "2020-09-26T06:55:20.767204Z",
     "start_time": "2020-09-26T06:55:08.304331Z"
    }
   },
   "outputs": [
    {
     "name": "stdout",
     "output_type": "stream",
     "text": [
      "2.2639807977679896\n"
     ]
    }
   ],
   "source": [
    "meta_model_lgbm = LGBMRegressor(n_estimators=1000, learning_rate=0.05, num_leaves=125, random_state=156)\n",
    "\n",
    "#기반 모델의 예측값을 기반으로 새롭게 만들어진 학습 및 테스트용 데이터로 예측하고 RMSE 측정.\n",
    "meta_model_lgbm.fit(Stack_final_X_train, y_train)\n",
    "final = meta_model_lgbm.predict(Stack_final_X_test)\n",
    "print(mean_absolute_percentage_error(y_test, final))"
   ]
  },
  {
   "cell_type": "code",
   "execution_count": 269,
   "metadata": {
    "ExecuteTime": {
     "end_time": "2020-09-26T06:55:32.812085Z",
     "start_time": "2020-09-26T06:55:20.929029Z"
    },
    "scrolled": true
   },
   "outputs": [
    {
     "name": "stdout",
     "output_type": "stream",
     "text": [
      "[15:55:20] WARNING: src/objective/regression_obj.cu:152: reg:linear is now deprecated in favor of reg:squarederror.\n",
      "2.1198445364608887\n"
     ]
    }
   ],
   "source": [
    "meta_model_xgb = XGBRegressor(n_estimators=1000, learning_rate=0.05, \n",
    "                       colsample_bytree=0.5, subsample=0.8)\n",
    "#기반 모델의 예측값을 기반으로 새롭게 만들어진 학습 및 테스트용 데이터로 예측하고 RMSE 측정.\n",
    "meta_model_xgb.fit(Stack_final_X_train, y_train)\n",
    "final = meta_model_xgb.predict(Stack_final_X_test)\n",
    "print(mean_absolute_percentage_error(y_test, final))"
   ]
  },
  {
   "cell_type": "code",
   "execution_count": null,
   "metadata": {},
   "outputs": [],
   "source": []
  },
  {
   "cell_type": "markdown",
   "metadata": {},
   "source": [
    "# 테스트 데이터 적용"
   ]
  },
  {
   "cell_type": "code",
   "execution_count": 35,
   "metadata": {
    "ExecuteTime": {
     "end_time": "2020-09-26T11:22:10.563713Z",
     "start_time": "2020-09-26T11:22:10.511851Z"
    }
   },
   "outputs": [],
   "source": [
    "test = pd.read_csv('data/test_data_08.csv')"
   ]
  },
  {
   "cell_type": "code",
   "execution_count": 36,
   "metadata": {
    "ExecuteTime": {
     "end_time": "2020-09-26T11:22:11.066444Z",
     "start_time": "2020-09-26T11:22:11.050497Z"
    }
   },
   "outputs": [],
   "source": [
    "# test_data2 => 무형 제외 데이터\n",
    "test_data2 = test[test['상품군']!='무형']"
   ]
  },
  {
   "cell_type": "code",
   "execution_count": 37,
   "metadata": {
    "ExecuteTime": {
     "end_time": "2020-09-26T11:22:11.440958Z",
     "start_time": "2020-09-26T11:22:11.430987Z"
    }
   },
   "outputs": [],
   "source": [
    "test_data = test_data2.copy()"
   ]
  },
  {
   "cell_type": "markdown",
   "metadata": {},
   "source": [
    "## 테스트 데이터 전처리"
   ]
  },
  {
   "cell_type": "code",
   "execution_count": 38,
   "metadata": {
    "ExecuteTime": {
     "end_time": "2020-09-26T11:22:12.270846Z",
     "start_time": "2020-09-26T11:22:12.245918Z"
    }
   },
   "outputs": [],
   "source": [
    "# 필요 없는 칼럼 제거\n",
    "test_data.drop(['방송일시','마더코드','상품코드','상품명','방송날짜'], axis=1, inplace=True)\n",
    "test_data.drop(['강수량(mm)','풍속(m/s)','습도(%)','전운량(10분위)','평균기온(°C)'], axis=1, inplace=True)"
   ]
  },
  {
   "cell_type": "code",
   "execution_count": 39,
   "metadata": {
    "ExecuteTime": {
     "end_time": "2020-09-26T11:22:12.853291Z",
     "start_time": "2020-09-26T11:22:12.829360Z"
    }
   },
   "outputs": [],
   "source": [
    "# 일시불 = 1, 무이자 = 2, 포함 x = 0\n",
    "test_data.loc[test_data['무이자/일시불'] == '일시불', '무이자/일시불'] = 1\n",
    "test_data.loc[test_data['무이자/일시불'] == '무이자', '무이자/일시불'] = 2\n",
    "test_data.loc[test_data['무이자/일시불'].isnull(), '무이자/일시불'] = 0\n",
    "test_data['무이자/일시불'] = test_data['무이자/일시불'].astype('int64')"
   ]
  },
  {
   "cell_type": "code",
   "execution_count": 40,
   "metadata": {
    "ExecuteTime": {
     "end_time": "2020-09-26T11:22:13.482773Z",
     "start_time": "2020-09-26T11:22:13.412960Z"
    },
    "scrolled": false
   },
   "outputs": [
    {
     "data": {
      "text/html": [
       "<div>\n",
       "<style scoped>\n",
       "    .dataframe tbody tr th:only-of-type {\n",
       "        vertical-align: middle;\n",
       "    }\n",
       "\n",
       "    .dataframe tbody tr th {\n",
       "        vertical-align: top;\n",
       "    }\n",
       "\n",
       "    .dataframe thead th {\n",
       "        text-align: right;\n",
       "    }\n",
       "</style>\n",
       "<table border=\"1\" class=\"dataframe\">\n",
       "  <thead>\n",
       "    <tr style=\"text-align: right;\">\n",
       "      <th></th>\n",
       "      <th>노출(분)</th>\n",
       "      <th>상품군</th>\n",
       "      <th>판매단가</th>\n",
       "      <th>취급액</th>\n",
       "      <th>브랜드</th>\n",
       "      <th>중분류</th>\n",
       "      <th>소분류</th>\n",
       "      <th>방송월</th>\n",
       "      <th>방송일</th>\n",
       "      <th>방송요일</th>\n",
       "      <th>방송시간</th>\n",
       "      <th>평일/주말</th>\n",
       "      <th>공휴일</th>\n",
       "      <th>계절</th>\n",
       "      <th>방송회차</th>\n",
       "      <th>무이자/일시불</th>\n",
       "      <th>프라임시간</th>\n",
       "      <th>체감온도</th>\n",
       "      <th>비옴</th>\n",
       "      <th>뉴스건수</th>\n",
       "    </tr>\n",
       "  </thead>\n",
       "  <tbody>\n",
       "    <tr>\n",
       "      <th>0</th>\n",
       "      <td>20.000000</td>\n",
       "      <td>의류</td>\n",
       "      <td>59800</td>\n",
       "      <td>NaN</td>\n",
       "      <td>잭필드</td>\n",
       "      <td>남성의류</td>\n",
       "      <td>셔츠/남방</td>\n",
       "      <td>6</td>\n",
       "      <td>1</td>\n",
       "      <td>0</td>\n",
       "      <td>06:20:00</td>\n",
       "      <td>0</td>\n",
       "      <td>0</td>\n",
       "      <td>여름</td>\n",
       "      <td>1</td>\n",
       "      <td>0</td>\n",
       "      <td>0.0</td>\n",
       "      <td>16.6</td>\n",
       "      <td>0</td>\n",
       "      <td>1857.0</td>\n",
       "    </tr>\n",
       "    <tr>\n",
       "      <th>1</th>\n",
       "      <td>20.000000</td>\n",
       "      <td>의류</td>\n",
       "      <td>59800</td>\n",
       "      <td>NaN</td>\n",
       "      <td>잭필드</td>\n",
       "      <td>남성의류</td>\n",
       "      <td>셔츠/남방</td>\n",
       "      <td>6</td>\n",
       "      <td>1</td>\n",
       "      <td>0</td>\n",
       "      <td>06:40:00</td>\n",
       "      <td>0</td>\n",
       "      <td>0</td>\n",
       "      <td>여름</td>\n",
       "      <td>2</td>\n",
       "      <td>0</td>\n",
       "      <td>0.0</td>\n",
       "      <td>16.6</td>\n",
       "      <td>0</td>\n",
       "      <td>1857.0</td>\n",
       "    </tr>\n",
       "    <tr>\n",
       "      <th>2</th>\n",
       "      <td>20.000000</td>\n",
       "      <td>의류</td>\n",
       "      <td>59800</td>\n",
       "      <td>NaN</td>\n",
       "      <td>잭필드</td>\n",
       "      <td>남성의류</td>\n",
       "      <td>셔츠/남방</td>\n",
       "      <td>6</td>\n",
       "      <td>1</td>\n",
       "      <td>0</td>\n",
       "      <td>07:00:00</td>\n",
       "      <td>0</td>\n",
       "      <td>0</td>\n",
       "      <td>여름</td>\n",
       "      <td>3</td>\n",
       "      <td>0</td>\n",
       "      <td>0.0</td>\n",
       "      <td>16.9</td>\n",
       "      <td>0</td>\n",
       "      <td>1857.0</td>\n",
       "    </tr>\n",
       "    <tr>\n",
       "      <th>3</th>\n",
       "      <td>20.000000</td>\n",
       "      <td>속옷</td>\n",
       "      <td>69900</td>\n",
       "      <td>NaN</td>\n",
       "      <td>쿠미투니카</td>\n",
       "      <td>여성속옷</td>\n",
       "      <td>팬티</td>\n",
       "      <td>6</td>\n",
       "      <td>1</td>\n",
       "      <td>0</td>\n",
       "      <td>07:20:00</td>\n",
       "      <td>0</td>\n",
       "      <td>0</td>\n",
       "      <td>여름</td>\n",
       "      <td>1</td>\n",
       "      <td>0</td>\n",
       "      <td>1.0</td>\n",
       "      <td>16.9</td>\n",
       "      <td>0</td>\n",
       "      <td>75.0</td>\n",
       "    </tr>\n",
       "    <tr>\n",
       "      <th>4</th>\n",
       "      <td>20.000000</td>\n",
       "      <td>속옷</td>\n",
       "      <td>69900</td>\n",
       "      <td>NaN</td>\n",
       "      <td>쿠미투니카</td>\n",
       "      <td>여성속옷</td>\n",
       "      <td>팬티</td>\n",
       "      <td>6</td>\n",
       "      <td>1</td>\n",
       "      <td>0</td>\n",
       "      <td>07:40:00</td>\n",
       "      <td>0</td>\n",
       "      <td>0</td>\n",
       "      <td>여름</td>\n",
       "      <td>2</td>\n",
       "      <td>0</td>\n",
       "      <td>1.0</td>\n",
       "      <td>16.9</td>\n",
       "      <td>0</td>\n",
       "      <td>75.0</td>\n",
       "    </tr>\n",
       "    <tr>\n",
       "      <th>...</th>\n",
       "      <td>...</td>\n",
       "      <td>...</td>\n",
       "      <td>...</td>\n",
       "      <td>...</td>\n",
       "      <td>...</td>\n",
       "      <td>...</td>\n",
       "      <td>...</td>\n",
       "      <td>...</td>\n",
       "      <td>...</td>\n",
       "      <td>...</td>\n",
       "      <td>...</td>\n",
       "      <td>...</td>\n",
       "      <td>...</td>\n",
       "      <td>...</td>\n",
       "      <td>...</td>\n",
       "      <td>...</td>\n",
       "      <td>...</td>\n",
       "      <td>...</td>\n",
       "      <td>...</td>\n",
       "      <td>...</td>\n",
       "    </tr>\n",
       "    <tr>\n",
       "      <th>2883</th>\n",
       "      <td>10.000000</td>\n",
       "      <td>속옷</td>\n",
       "      <td>99000</td>\n",
       "      <td>NaN</td>\n",
       "      <td>라쉬반</td>\n",
       "      <td>남성속옷</td>\n",
       "      <td>드로즈</td>\n",
       "      <td>7</td>\n",
       "      <td>1</td>\n",
       "      <td>2</td>\n",
       "      <td>00:10:00</td>\n",
       "      <td>0</td>\n",
       "      <td>0</td>\n",
       "      <td>여름</td>\n",
       "      <td>6</td>\n",
       "      <td>1</td>\n",
       "      <td>0.0</td>\n",
       "      <td>18.8</td>\n",
       "      <td>0</td>\n",
       "      <td>37.0</td>\n",
       "    </tr>\n",
       "    <tr>\n",
       "      <th>2884</th>\n",
       "      <td>10.000000</td>\n",
       "      <td>속옷</td>\n",
       "      <td>119000</td>\n",
       "      <td>NaN</td>\n",
       "      <td>라쉬반</td>\n",
       "      <td>남성속옷</td>\n",
       "      <td>드로즈</td>\n",
       "      <td>7</td>\n",
       "      <td>1</td>\n",
       "      <td>2</td>\n",
       "      <td>00:10:00</td>\n",
       "      <td>0</td>\n",
       "      <td>0</td>\n",
       "      <td>여름</td>\n",
       "      <td>6</td>\n",
       "      <td>2</td>\n",
       "      <td>0.0</td>\n",
       "      <td>18.8</td>\n",
       "      <td>0</td>\n",
       "      <td>37.0</td>\n",
       "    </tr>\n",
       "    <tr>\n",
       "      <th>2885</th>\n",
       "      <td>10.000000</td>\n",
       "      <td>속옷</td>\n",
       "      <td>119000</td>\n",
       "      <td>NaN</td>\n",
       "      <td>라쉬반</td>\n",
       "      <td>남성속옷</td>\n",
       "      <td>드로즈</td>\n",
       "      <td>7</td>\n",
       "      <td>1</td>\n",
       "      <td>2</td>\n",
       "      <td>00:10:00</td>\n",
       "      <td>0</td>\n",
       "      <td>0</td>\n",
       "      <td>여름</td>\n",
       "      <td>6</td>\n",
       "      <td>0</td>\n",
       "      <td>0.0</td>\n",
       "      <td>18.8</td>\n",
       "      <td>0</td>\n",
       "      <td>37.0</td>\n",
       "    </tr>\n",
       "    <tr>\n",
       "      <th>2889</th>\n",
       "      <td>20.000000</td>\n",
       "      <td>의류</td>\n",
       "      <td>69900</td>\n",
       "      <td>NaN</td>\n",
       "      <td>아놀드파마</td>\n",
       "      <td>여성의류</td>\n",
       "      <td>블라우스/셔츠</td>\n",
       "      <td>7</td>\n",
       "      <td>1</td>\n",
       "      <td>2</td>\n",
       "      <td>01:20:00</td>\n",
       "      <td>0</td>\n",
       "      <td>0</td>\n",
       "      <td>여름</td>\n",
       "      <td>1</td>\n",
       "      <td>0</td>\n",
       "      <td>0.0</td>\n",
       "      <td>19.0</td>\n",
       "      <td>0</td>\n",
       "      <td>133.0</td>\n",
       "    </tr>\n",
       "    <tr>\n",
       "      <th>2890</th>\n",
       "      <td>15.933333</td>\n",
       "      <td>의류</td>\n",
       "      <td>69900</td>\n",
       "      <td>NaN</td>\n",
       "      <td>아놀드파마</td>\n",
       "      <td>여성의류</td>\n",
       "      <td>블라우스/셔츠</td>\n",
       "      <td>7</td>\n",
       "      <td>1</td>\n",
       "      <td>2</td>\n",
       "      <td>01:40:00</td>\n",
       "      <td>0</td>\n",
       "      <td>0</td>\n",
       "      <td>여름</td>\n",
       "      <td>2</td>\n",
       "      <td>0</td>\n",
       "      <td>0.0</td>\n",
       "      <td>19.0</td>\n",
       "      <td>0</td>\n",
       "      <td>133.0</td>\n",
       "    </tr>\n",
       "  </tbody>\n",
       "</table>\n",
       "<p>2716 rows × 20 columns</p>\n",
       "</div>"
      ],
      "text/plain": [
       "          노출(분) 상품군    판매단가  취급액    브랜드   중분류      소분류  방송월  방송일  방송요일  \\\n",
       "0     20.000000  의류   59800  NaN    잭필드  남성의류    셔츠/남방    6    1     0   \n",
       "1     20.000000  의류   59800  NaN    잭필드  남성의류    셔츠/남방    6    1     0   \n",
       "2     20.000000  의류   59800  NaN    잭필드  남성의류    셔츠/남방    6    1     0   \n",
       "3     20.000000  속옷   69900  NaN  쿠미투니카  여성속옷       팬티    6    1     0   \n",
       "4     20.000000  속옷   69900  NaN  쿠미투니카  여성속옷       팬티    6    1     0   \n",
       "...         ...  ..     ...  ...    ...   ...      ...  ...  ...   ...   \n",
       "2883  10.000000  속옷   99000  NaN    라쉬반  남성속옷      드로즈    7    1     2   \n",
       "2884  10.000000  속옷  119000  NaN    라쉬반  남성속옷      드로즈    7    1     2   \n",
       "2885  10.000000  속옷  119000  NaN    라쉬반  남성속옷      드로즈    7    1     2   \n",
       "2889  20.000000  의류   69900  NaN  아놀드파마  여성의류  블라우스/셔츠    7    1     2   \n",
       "2890  15.933333  의류   69900  NaN  아놀드파마  여성의류  블라우스/셔츠    7    1     2   \n",
       "\n",
       "          방송시간  평일/주말  공휴일  계절  방송회차  무이자/일시불  프라임시간  체감온도  비옴    뉴스건수  \n",
       "0     06:20:00      0    0  여름     1        0    0.0  16.6   0  1857.0  \n",
       "1     06:40:00      0    0  여름     2        0    0.0  16.6   0  1857.0  \n",
       "2     07:00:00      0    0  여름     3        0    0.0  16.9   0  1857.0  \n",
       "3     07:20:00      0    0  여름     1        0    1.0  16.9   0    75.0  \n",
       "4     07:40:00      0    0  여름     2        0    1.0  16.9   0    75.0  \n",
       "...        ...    ...  ...  ..   ...      ...    ...   ...  ..     ...  \n",
       "2883  00:10:00      0    0  여름     6        1    0.0  18.8   0    37.0  \n",
       "2884  00:10:00      0    0  여름     6        2    0.0  18.8   0    37.0  \n",
       "2885  00:10:00      0    0  여름     6        0    0.0  18.8   0    37.0  \n",
       "2889  01:20:00      0    0  여름     1        0    0.0  19.0   0   133.0  \n",
       "2890  01:40:00      0    0  여름     2        0    0.0  19.0   0   133.0  \n",
       "\n",
       "[2716 rows x 20 columns]"
      ]
     },
     "execution_count": 40,
     "metadata": {},
     "output_type": "execute_result"
    }
   ],
   "source": [
    "test_data"
   ]
  },
  {
   "cell_type": "code",
   "execution_count": 41,
   "metadata": {
    "ExecuteTime": {
     "end_time": "2020-09-26T11:22:14.238869Z",
     "start_time": "2020-09-26T11:22:14.220919Z"
    }
   },
   "outputs": [
    {
     "data": {
      "text/plain": [
       "137"
      ]
     },
     "execution_count": 41,
     "metadata": {},
     "output_type": "execute_result"
    }
   ],
   "source": [
    "len(test_data['브랜드'].unique())"
   ]
  },
  {
   "cell_type": "code",
   "execution_count": 42,
   "metadata": {
    "ExecuteTime": {
     "end_time": "2020-09-26T11:22:14.737537Z",
     "start_time": "2020-09-26T11:22:14.710609Z"
    },
    "scrolled": false
   },
   "outputs": [
    {
     "name": "stdout",
     "output_type": "stream",
     "text": [
      "<class 'pandas.core.frame.DataFrame'>\n",
      "Int64Index: 2716 entries, 0 to 2890\n",
      "Data columns (total 20 columns):\n",
      " #   Column   Non-Null Count  Dtype  \n",
      "---  ------   --------------  -----  \n",
      " 0   노출(분)    2716 non-null   float64\n",
      " 1   상품군      2716 non-null   object \n",
      " 2   판매단가     2716 non-null   int64  \n",
      " 3   취급액      0 non-null      float64\n",
      " 4   브랜드      2716 non-null   object \n",
      " 5   중분류      2716 non-null   object \n",
      " 6   소분류      2716 non-null   object \n",
      " 7   방송월      2716 non-null   int64  \n",
      " 8   방송일      2716 non-null   int64  \n",
      " 9   방송요일     2716 non-null   int64  \n",
      " 10  방송시간     2716 non-null   object \n",
      " 11  평일/주말    2716 non-null   int64  \n",
      " 12  공휴일      2716 non-null   int64  \n",
      " 13  계절       2716 non-null   object \n",
      " 14  방송회차     2716 non-null   int64  \n",
      " 15  무이자/일시불  2716 non-null   int64  \n",
      " 16  프라임시간    2716 non-null   float64\n",
      " 17  체감온도     2716 non-null   float64\n",
      " 18  비옴       2716 non-null   int64  \n",
      " 19  뉴스건수     2716 non-null   float64\n",
      "dtypes: float64(5), int64(9), object(6)\n",
      "memory usage: 445.6+ KB\n"
     ]
    }
   ],
   "source": [
    "test_data.info()"
   ]
  },
  {
   "cell_type": "code",
   "execution_count": 43,
   "metadata": {
    "ExecuteTime": {
     "end_time": "2020-09-26T11:22:15.902844Z",
     "start_time": "2020-09-26T11:22:15.833030Z"
    }
   },
   "outputs": [
    {
     "name": "stdout",
     "output_type": "stream",
     "text": [
      "<class 'pandas.core.frame.DataFrame'>\n",
      "Int64Index: 2716 entries, 0 to 2890\n",
      "Data columns (total 19 columns):\n",
      " #   Column   Non-Null Count  Dtype  \n",
      "---  ------   --------------  -----  \n",
      " 0   노출(분)    2716 non-null   float64\n",
      " 1   상품군      2716 non-null   object \n",
      " 2   판매단가     2716 non-null   int64  \n",
      " 3   브랜드      2716 non-null   object \n",
      " 4   중분류      2716 non-null   object \n",
      " 5   소분류      2716 non-null   object \n",
      " 6   방송월      2716 non-null   int64  \n",
      " 7   방송일      2716 non-null   int64  \n",
      " 8   방송요일     2716 non-null   int64  \n",
      " 9   방송시간     2716 non-null   object \n",
      " 10  평일/주말    2716 non-null   int64  \n",
      " 11  공휴일      2716 non-null   int64  \n",
      " 12  계절       2716 non-null   object \n",
      " 13  방송회차     2716 non-null   int64  \n",
      " 14  무이자/일시불  2716 non-null   int64  \n",
      " 15  프라임시간    2716 non-null   float64\n",
      " 16  체감온도     2716 non-null   float64\n",
      " 17  비옴       2716 non-null   int64  \n",
      " 18  뉴스건수     2716 non-null   float64\n",
      "dtypes: float64(4), int64(9), object(6)\n",
      "memory usage: 424.4+ KB\n"
     ]
    }
   ],
   "source": [
    "test_dataset = test_data.drop('취급액', axis=1)\n",
    "test_dataset = test_dataset.dropna(how='any')\n",
    "test_dataset.info()"
   ]
  },
  {
   "cell_type": "markdown",
   "metadata": {},
   "source": [
    "## 범주형 변수 처리"
   ]
  },
  {
   "cell_type": "code",
   "execution_count": 44,
   "metadata": {
    "ExecuteTime": {
     "end_time": "2020-09-26T11:22:28.734082Z",
     "start_time": "2020-09-26T11:22:28.700173Z"
    },
    "scrolled": true
   },
   "outputs": [
    {
     "name": "stdout",
     "output_type": "stream",
     "text": [
      "brand vectorization shape: (2716, 369)\n"
     ]
    }
   ],
   "source": [
    "test_data_brand = cnt_vec.transform(test_dataset['브랜드'])\n",
    "\n",
    "print('brand vectorization shape:',test_data_brand.shape)"
   ]
  },
  {
   "cell_type": "code",
   "execution_count": 45,
   "metadata": {
    "ExecuteTime": {
     "end_time": "2020-09-26T11:22:29.345446Z",
     "start_time": "2020-09-26T11:22:29.241727Z"
    }
   },
   "outputs": [],
   "source": [
    "from sklearn.preprocessing import LabelBinarizer\n",
    "\n",
    "test_data_item = item.transform(test_dataset['상품군'])\n",
    "\n",
    "test_data_prime = prime.transform(test_dataset['프라임시간'])\n",
    "\n",
    "test_data_tv_round = tv_round.transform(test_dataset['방송회차'])\n",
    "\n",
    "test_data_rain = rain.transform(test_dataset['비옴'])\n",
    "\n",
    "test_data_time = time.transform(test_dataset['방송시간'])\n",
    "\n",
    "test_data_day = day.transform(test_dataset['방송일'])\n",
    "\n",
    "test_data_month = month.transform(test_dataset['방송월'])\n",
    "\n",
    "test_data_weekday = weekday.transform(test_dataset['방송요일'])\n",
    "\n",
    "test_data_weekend = weekend.transform(test_dataset['평일/주말'])\n",
    "\n",
    "test_data_holiday = holiday.transform(test_dataset['공휴일'])\n",
    "\n",
    "test_data_season = season.transform(test_dataset['계절'])\n",
    "\n",
    "test_data_gung_item = gung_item.transform(test_dataset['중분류'])\n",
    "\n",
    "test_data_so_item = so_item.transform(test_dataset['소분류'])\n",
    "\n",
    "test_data_card = card.transform(test_dataset['무이자/일시불'])"
   ]
  },
  {
   "cell_type": "code",
   "execution_count": 46,
   "metadata": {
    "ExecuteTime": {
     "end_time": "2020-09-26T11:22:29.910936Z",
     "start_time": "2020-09-26T11:22:29.898968Z"
    }
   },
   "outputs": [],
   "source": [
    "test_data_copy = test_dataset.copy()"
   ]
  },
  {
   "cell_type": "code",
   "execution_count": 47,
   "metadata": {
    "ExecuteTime": {
     "end_time": "2020-09-26T11:22:30.428554Z",
     "start_time": "2020-09-26T11:22:30.415587Z"
    }
   },
   "outputs": [],
   "source": [
    "# 범주형 변수제거\n",
    "test_data_copy.drop(['상품군','중분류','소분류','방송월','방송요일','방송일','방송시간','평일/주말','공휴일','방송회차',\n",
    "                '계절','브랜드','프라임시간','비옴','무이자/일시불'], axis=1, inplace=True)"
   ]
  },
  {
   "cell_type": "code",
   "execution_count": 48,
   "metadata": {
    "ExecuteTime": {
     "end_time": "2020-09-26T11:22:31.196535Z",
     "start_time": "2020-09-26T11:22:31.171603Z"
    }
   },
   "outputs": [
    {
     "name": "stdout",
     "output_type": "stream",
     "text": [
      "<class 'pandas.core.frame.DataFrame'>\n",
      "Int64Index: 2716 entries, 0 to 2890\n",
      "Data columns (total 4 columns):\n",
      " #   Column  Non-Null Count  Dtype  \n",
      "---  ------  --------------  -----  \n",
      " 0   노출(분)   2716 non-null   float64\n",
      " 1   판매단가    2716 non-null   int64  \n",
      " 2   체감온도    2716 non-null   float64\n",
      " 3   뉴스건수    2716 non-null   float64\n",
      "dtypes: float64(3), int64(1)\n",
      "memory usage: 106.1 KB\n"
     ]
    }
   ],
   "source": [
    "test_data_copy.info()"
   ]
  },
  {
   "cell_type": "markdown",
   "metadata": {},
   "source": [
    "## 취급액 예측"
   ]
  },
  {
   "cell_type": "code",
   "execution_count": 49,
   "metadata": {
    "ExecuteTime": {
     "end_time": "2020-09-26T11:22:31.870732Z",
     "start_time": "2020-09-26T11:22:31.850787Z"
    }
   },
   "outputs": [],
   "source": [
    "from sklearn.preprocessing import StandardScaler, MinMaxScaler\n",
    "scaler = StandardScaler()\n",
    "test_scaled_data = scaler.fit_transform(test_data_copy)\n"
   ]
  },
  {
   "cell_type": "code",
   "execution_count": 50,
   "metadata": {
    "ExecuteTime": {
     "end_time": "2020-09-26T11:22:32.519592Z",
     "start_time": "2020-09-26T11:22:32.509620Z"
    }
   },
   "outputs": [],
   "source": [
    "def new_model_test(model, matrix_list):\n",
    "    X = hstack(matrix_list).tocsr()\n",
    "    preds = model.predict(X)\n",
    "    return preds"
   ]
  },
  {
   "cell_type": "code",
   "execution_count": 51,
   "metadata": {
    "ExecuteTime": {
     "end_time": "2020-09-26T11:22:33.821116Z",
     "start_time": "2020-09-26T11:22:33.164869Z"
    }
   },
   "outputs": [],
   "source": [
    "from scipy.sparse import hstack\n",
    "import gc # 메모리 정리 -> 속도 빨라짐\n",
    "from lightgbm import LGBMRegressor\n",
    "sparse_matrix_list = (test_scaled_data, test_data_brand,test_data_item,test_data_gung_item,test_data_so_item,test_data_card, \n",
    "                      test_data_prime,test_data_tv_round,test_data_time,test_data_day,test_data_month,\n",
    "                      test_data_weekday,test_data_weekend,test_data_holiday,test_data_season,test_data_rain)\n",
    "lgbm_test_preds= new_model_test(model=fit_lgbm_model, matrix_list=sparse_matrix_list)\n"
   ]
  },
  {
   "cell_type": "code",
   "execution_count": 52,
   "metadata": {
    "ExecuteTime": {
     "end_time": "2020-09-26T11:22:34.438464Z",
     "start_time": "2020-09-26T11:22:34.412534Z"
    }
   },
   "outputs": [
    {
     "data": {
      "text/plain": [
       "array([16.14773562, 15.2419595 , 15.60368611, ..., 16.80867411,\n",
       "       16.00702873, 15.0819955 ])"
      ]
     },
     "execution_count": 52,
     "metadata": {},
     "output_type": "execute_result"
    }
   ],
   "source": [
    "lgbm_test_preds"
   ]
  },
  {
   "cell_type": "code",
   "execution_count": 53,
   "metadata": {
    "ExecuteTime": {
     "end_time": "2020-09-26T11:22:35.114657Z",
     "start_time": "2020-09-26T11:22:35.103686Z"
    }
   },
   "outputs": [],
   "source": [
    "# 로그값 실제값으로 변환\n",
    "lgbm_test_preds_real = np.expm1(lgbm_test_preds)"
   ]
  },
  {
   "cell_type": "markdown",
   "metadata": {},
   "source": [
    "## 실제데이터에 적용"
   ]
  },
  {
   "cell_type": "code",
   "execution_count": 59,
   "metadata": {
    "ExecuteTime": {
     "end_time": "2020-09-26T11:27:39.404319Z",
     "start_time": "2020-09-26T11:27:39.395344Z"
    }
   },
   "outputs": [
    {
     "name": "stderr",
     "output_type": "stream",
     "text": [
      "C:\\Users\\YOO\\anaconda3\\lib\\site-packages\\ipykernel_launcher.py:1: SettingWithCopyWarning: \n",
      "A value is trying to be set on a copy of a slice from a DataFrame.\n",
      "Try using .loc[row_indexer,col_indexer] = value instead\n",
      "\n",
      "See the caveats in the documentation: https://pandas.pydata.org/pandas-docs/stable/user_guide/indexing.html#returning-a-view-versus-a-copy\n",
      "  \"\"\"Entry point for launching an IPython kernel.\n"
     ]
    }
   ],
   "source": [
    "test_data2['취급액'] = lgbm_test_preds_real"
   ]
  },
  {
   "cell_type": "code",
   "execution_count": 60,
   "metadata": {
    "ExecuteTime": {
     "end_time": "2020-09-26T11:27:39.902687Z",
     "start_time": "2020-09-26T11:27:39.884736Z"
    }
   },
   "outputs": [
    {
     "name": "stdout",
     "output_type": "stream",
     "text": [
      "<class 'pandas.core.frame.DataFrame'>\n",
      "Int64Index: 2716 entries, 0 to 2890\n",
      "Data columns (total 30 columns):\n",
      " #   Column     Non-Null Count  Dtype  \n",
      "---  ------     --------------  -----  \n",
      " 0   방송일시       2716 non-null   object \n",
      " 1   노출(분)      2716 non-null   float64\n",
      " 2   마더코드       2716 non-null   int64  \n",
      " 3   상품코드       2716 non-null   int64  \n",
      " 4   상품명        2716 non-null   object \n",
      " 5   상품군        2716 non-null   object \n",
      " 6   판매단가       2716 non-null   int64  \n",
      " 7   취급액        2716 non-null   float64\n",
      " 8   브랜드        2716 non-null   object \n",
      " 9   중분류        2716 non-null   object \n",
      " 10  소분류        2716 non-null   object \n",
      " 11  방송날짜       2716 non-null   object \n",
      " 12  방송월        2716 non-null   int64  \n",
      " 13  방송일        2716 non-null   int64  \n",
      " 14  방송요일       2716 non-null   int64  \n",
      " 15  방송시간       2716 non-null   object \n",
      " 16  평일/주말      2716 non-null   int64  \n",
      " 17  공휴일        2716 non-null   int64  \n",
      " 18  계절         2716 non-null   object \n",
      " 19  방송회차       2716 non-null   int64  \n",
      " 20  무이자/일시불    456 non-null    object \n",
      " 21  프라임시간      2716 non-null   float64\n",
      " 22  평균기온(°C)   2716 non-null   float64\n",
      " 23  강수량(mm)    2716 non-null   float64\n",
      " 24  풍속(m/s)    2716 non-null   float64\n",
      " 25  습도(%)      2716 non-null   float64\n",
      " 26  전운량(10분위)  2716 non-null   float64\n",
      " 27  체감온도       2716 non-null   float64\n",
      " 28  비옴         2716 non-null   int64  \n",
      " 29  뉴스건수       2716 non-null   float64\n",
      "dtypes: float64(10), int64(10), object(10)\n",
      "memory usage: 657.8+ KB\n"
     ]
    }
   ],
   "source": [
    "test_data2.info()"
   ]
  },
  {
   "cell_type": "code",
   "execution_count": 61,
   "metadata": {
    "ExecuteTime": {
     "end_time": "2020-09-26T11:27:43.502845Z",
     "start_time": "2020-09-26T11:27:43.476914Z"
    },
    "scrolled": false
   },
   "outputs": [
    {
     "data": {
      "text/html": [
       "<div>\n",
       "<style scoped>\n",
       "    .dataframe tbody tr th:only-of-type {\n",
       "        vertical-align: middle;\n",
       "    }\n",
       "\n",
       "    .dataframe tbody tr th {\n",
       "        vertical-align: top;\n",
       "    }\n",
       "\n",
       "    .dataframe thead th {\n",
       "        text-align: right;\n",
       "    }\n",
       "</style>\n",
       "<table border=\"1\" class=\"dataframe\">\n",
       "  <thead>\n",
       "    <tr style=\"text-align: right;\">\n",
       "      <th></th>\n",
       "      <th>취급액</th>\n",
       "    </tr>\n",
       "  </thead>\n",
       "  <tbody>\n",
       "    <tr>\n",
       "      <th>0</th>\n",
       "      <td>1.030084e+07</td>\n",
       "    </tr>\n",
       "    <tr>\n",
       "      <th>1</th>\n",
       "      <td>4.163886e+06</td>\n",
       "    </tr>\n",
       "    <tr>\n",
       "      <th>2</th>\n",
       "      <td>5.978534e+06</td>\n",
       "    </tr>\n",
       "    <tr>\n",
       "      <th>3</th>\n",
       "      <td>4.386826e+06</td>\n",
       "    </tr>\n",
       "    <tr>\n",
       "      <th>4</th>\n",
       "      <td>3.287762e+06</td>\n",
       "    </tr>\n",
       "    <tr>\n",
       "      <th>...</th>\n",
       "      <td>...</td>\n",
       "    </tr>\n",
       "    <tr>\n",
       "      <th>2883</th>\n",
       "      <td>2.252857e+07</td>\n",
       "    </tr>\n",
       "    <tr>\n",
       "      <th>2884</th>\n",
       "      <td>2.101839e+07</td>\n",
       "    </tr>\n",
       "    <tr>\n",
       "      <th>2885</th>\n",
       "      <td>1.994869e+07</td>\n",
       "    </tr>\n",
       "    <tr>\n",
       "      <th>2889</th>\n",
       "      <td>8.948788e+06</td>\n",
       "    </tr>\n",
       "    <tr>\n",
       "      <th>2890</th>\n",
       "      <td>3.548357e+06</td>\n",
       "    </tr>\n",
       "  </tbody>\n",
       "</table>\n",
       "<p>2716 rows × 1 columns</p>\n",
       "</div>"
      ],
      "text/plain": [
       "               취급액\n",
       "0     1.030084e+07\n",
       "1     4.163886e+06\n",
       "2     5.978534e+06\n",
       "3     4.386826e+06\n",
       "4     3.287762e+06\n",
       "...            ...\n",
       "2883  2.252857e+07\n",
       "2884  2.101839e+07\n",
       "2885  1.994869e+07\n",
       "2889  8.948788e+06\n",
       "2890  3.548357e+06\n",
       "\n",
       "[2716 rows x 1 columns]"
      ]
     },
     "execution_count": 61,
     "metadata": {},
     "output_type": "execute_result"
    }
   ],
   "source": [
    "test_data3 = test_data2[['취급액']]\n",
    "test_data3"
   ]
  },
  {
   "cell_type": "code",
   "execution_count": 62,
   "metadata": {
    "ExecuteTime": {
     "end_time": "2020-09-26T11:27:46.162974Z",
     "start_time": "2020-09-26T11:27:46.143028Z"
    },
    "scrolled": true
   },
   "outputs": [
    {
     "name": "stdout",
     "output_type": "stream",
     "text": [
      "<class 'pandas.core.frame.DataFrame'>\n",
      "Int64Index: 2716 entries, 0 to 2890\n",
      "Data columns (total 1 columns):\n",
      " #   Column  Non-Null Count  Dtype  \n",
      "---  ------  --------------  -----  \n",
      " 0   취급액     2716 non-null   float64\n",
      "dtypes: float64(1)\n",
      "memory usage: 42.4 KB\n"
     ]
    }
   ],
   "source": [
    "test_data3.info()"
   ]
  },
  {
   "cell_type": "code",
   "execution_count": 66,
   "metadata": {
    "ExecuteTime": {
     "end_time": "2020-09-26T11:29:24.487830Z",
     "start_time": "2020-09-26T11:29:24.368155Z"
    }
   },
   "outputs": [
    {
     "data": {
      "text/html": [
       "<div>\n",
       "<style scoped>\n",
       "    .dataframe tbody tr th:only-of-type {\n",
       "        vertical-align: middle;\n",
       "    }\n",
       "\n",
       "    .dataframe tbody tr th {\n",
       "        vertical-align: top;\n",
       "    }\n",
       "\n",
       "    .dataframe thead th {\n",
       "        text-align: right;\n",
       "    }\n",
       "</style>\n",
       "<table border=\"1\" class=\"dataframe\">\n",
       "  <thead>\n",
       "    <tr style=\"text-align: right;\">\n",
       "      <th></th>\n",
       "      <th>방송일시</th>\n",
       "      <th>노출(분)</th>\n",
       "      <th>마더코드</th>\n",
       "      <th>상품코드</th>\n",
       "      <th>상품명</th>\n",
       "      <th>상품군</th>\n",
       "      <th>판매단가</th>\n",
       "      <th>브랜드</th>\n",
       "      <th>중분류</th>\n",
       "      <th>소분류</th>\n",
       "      <th>...</th>\n",
       "      <th>프라임시간</th>\n",
       "      <th>평균기온(°C)</th>\n",
       "      <th>강수량(mm)</th>\n",
       "      <th>풍속(m/s)</th>\n",
       "      <th>습도(%)</th>\n",
       "      <th>전운량(10분위)</th>\n",
       "      <th>체감온도</th>\n",
       "      <th>비옴</th>\n",
       "      <th>뉴스건수</th>\n",
       "      <th>취급액</th>\n",
       "    </tr>\n",
       "  </thead>\n",
       "  <tbody>\n",
       "    <tr>\n",
       "      <th>0</th>\n",
       "      <td>2020-06-01 06:20:00</td>\n",
       "      <td>20.000000</td>\n",
       "      <td>100650</td>\n",
       "      <td>201971</td>\n",
       "      <td>잭필드 남성  반팔셔츠 4종</td>\n",
       "      <td>의류</td>\n",
       "      <td>59800</td>\n",
       "      <td>잭필드</td>\n",
       "      <td>남성의류</td>\n",
       "      <td>셔츠/남방</td>\n",
       "      <td>...</td>\n",
       "      <td>0.0</td>\n",
       "      <td>16.70</td>\n",
       "      <td>0.10</td>\n",
       "      <td>2.90</td>\n",
       "      <td>94.5</td>\n",
       "      <td>6.0</td>\n",
       "      <td>16.6</td>\n",
       "      <td>0</td>\n",
       "      <td>1857.0</td>\n",
       "      <td>1.030084e+07</td>\n",
       "    </tr>\n",
       "    <tr>\n",
       "      <th>1</th>\n",
       "      <td>2020-06-01 06:40:00</td>\n",
       "      <td>20.000000</td>\n",
       "      <td>100650</td>\n",
       "      <td>201971</td>\n",
       "      <td>잭필드 남성  반팔셔츠 4종</td>\n",
       "      <td>의류</td>\n",
       "      <td>59800</td>\n",
       "      <td>잭필드</td>\n",
       "      <td>남성의류</td>\n",
       "      <td>셔츠/남방</td>\n",
       "      <td>...</td>\n",
       "      <td>0.0</td>\n",
       "      <td>16.70</td>\n",
       "      <td>0.10</td>\n",
       "      <td>2.90</td>\n",
       "      <td>94.5</td>\n",
       "      <td>6.0</td>\n",
       "      <td>16.6</td>\n",
       "      <td>0</td>\n",
       "      <td>1857.0</td>\n",
       "      <td>4.163886e+06</td>\n",
       "    </tr>\n",
       "    <tr>\n",
       "      <th>2</th>\n",
       "      <td>2020-06-01 07:00:00</td>\n",
       "      <td>20.000000</td>\n",
       "      <td>100650</td>\n",
       "      <td>201971</td>\n",
       "      <td>잭필드 남성  반팔셔츠 4종</td>\n",
       "      <td>의류</td>\n",
       "      <td>59800</td>\n",
       "      <td>잭필드</td>\n",
       "      <td>남성의류</td>\n",
       "      <td>셔츠/남방</td>\n",
       "      <td>...</td>\n",
       "      <td>0.0</td>\n",
       "      <td>16.90</td>\n",
       "      <td>0.00</td>\n",
       "      <td>2.80</td>\n",
       "      <td>90.0</td>\n",
       "      <td>6.0</td>\n",
       "      <td>16.9</td>\n",
       "      <td>0</td>\n",
       "      <td>1857.0</td>\n",
       "      <td>5.978534e+06</td>\n",
       "    </tr>\n",
       "    <tr>\n",
       "      <th>3</th>\n",
       "      <td>2020-06-01 07:20:00</td>\n",
       "      <td>20.000000</td>\n",
       "      <td>100445</td>\n",
       "      <td>202278</td>\n",
       "      <td>쿠미투니카 쿨 레이시 란쥬쉐이퍼&amp;팬티</td>\n",
       "      <td>속옷</td>\n",
       "      <td>69900</td>\n",
       "      <td>쿠미투니카</td>\n",
       "      <td>여성속옷</td>\n",
       "      <td>팬티</td>\n",
       "      <td>...</td>\n",
       "      <td>1.0</td>\n",
       "      <td>16.90</td>\n",
       "      <td>0.00</td>\n",
       "      <td>2.80</td>\n",
       "      <td>90.0</td>\n",
       "      <td>6.0</td>\n",
       "      <td>16.9</td>\n",
       "      <td>0</td>\n",
       "      <td>75.0</td>\n",
       "      <td>4.386826e+06</td>\n",
       "    </tr>\n",
       "    <tr>\n",
       "      <th>4</th>\n",
       "      <td>2020-06-01 07:40:00</td>\n",
       "      <td>20.000000</td>\n",
       "      <td>100445</td>\n",
       "      <td>202278</td>\n",
       "      <td>쿠미투니카 쿨 레이시 란쥬쉐이퍼&amp;팬티</td>\n",
       "      <td>속옷</td>\n",
       "      <td>69900</td>\n",
       "      <td>쿠미투니카</td>\n",
       "      <td>여성속옷</td>\n",
       "      <td>팬티</td>\n",
       "      <td>...</td>\n",
       "      <td>1.0</td>\n",
       "      <td>16.90</td>\n",
       "      <td>0.00</td>\n",
       "      <td>2.80</td>\n",
       "      <td>90.0</td>\n",
       "      <td>6.0</td>\n",
       "      <td>16.9</td>\n",
       "      <td>0</td>\n",
       "      <td>75.0</td>\n",
       "      <td>3.287762e+06</td>\n",
       "    </tr>\n",
       "    <tr>\n",
       "      <th>...</th>\n",
       "      <td>...</td>\n",
       "      <td>...</td>\n",
       "      <td>...</td>\n",
       "      <td>...</td>\n",
       "      <td>...</td>\n",
       "      <td>...</td>\n",
       "      <td>...</td>\n",
       "      <td>...</td>\n",
       "      <td>...</td>\n",
       "      <td>...</td>\n",
       "      <td>...</td>\n",
       "      <td>...</td>\n",
       "      <td>...</td>\n",
       "      <td>...</td>\n",
       "      <td>...</td>\n",
       "      <td>...</td>\n",
       "      <td>...</td>\n",
       "      <td>...</td>\n",
       "      <td>...</td>\n",
       "      <td>...</td>\n",
       "      <td>...</td>\n",
       "    </tr>\n",
       "    <tr>\n",
       "      <th>2886</th>\n",
       "      <td>2020-07-01 00:20:00</td>\n",
       "      <td>20.000000</td>\n",
       "      <td>100660</td>\n",
       "      <td>201989</td>\n",
       "      <td>쉴렉스  안마의자 렌탈서비스</td>\n",
       "      <td>무형</td>\n",
       "      <td>0</td>\n",
       "      <td>NaN</td>\n",
       "      <td>NaN</td>\n",
       "      <td>NaN</td>\n",
       "      <td>...</td>\n",
       "      <td>0.0</td>\n",
       "      <td>18.35</td>\n",
       "      <td>0.25</td>\n",
       "      <td>2.25</td>\n",
       "      <td>91.5</td>\n",
       "      <td>10.0</td>\n",
       "      <td>18.8</td>\n",
       "      <td>0</td>\n",
       "      <td>NaN</td>\n",
       "      <td>NaN</td>\n",
       "    </tr>\n",
       "    <tr>\n",
       "      <th>2887</th>\n",
       "      <td>2020-07-01 00:40:00</td>\n",
       "      <td>20.000000</td>\n",
       "      <td>100660</td>\n",
       "      <td>201989</td>\n",
       "      <td>쉴렉스  안마의자 렌탈서비스</td>\n",
       "      <td>무형</td>\n",
       "      <td>0</td>\n",
       "      <td>NaN</td>\n",
       "      <td>NaN</td>\n",
       "      <td>NaN</td>\n",
       "      <td>...</td>\n",
       "      <td>0.0</td>\n",
       "      <td>18.35</td>\n",
       "      <td>0.25</td>\n",
       "      <td>2.25</td>\n",
       "      <td>91.5</td>\n",
       "      <td>10.0</td>\n",
       "      <td>18.8</td>\n",
       "      <td>0</td>\n",
       "      <td>NaN</td>\n",
       "      <td>NaN</td>\n",
       "    </tr>\n",
       "    <tr>\n",
       "      <th>2888</th>\n",
       "      <td>2020-07-01 01:00:00</td>\n",
       "      <td>20.000000</td>\n",
       "      <td>100660</td>\n",
       "      <td>201989</td>\n",
       "      <td>쉴렉스  안마의자 렌탈서비스</td>\n",
       "      <td>무형</td>\n",
       "      <td>0</td>\n",
       "      <td>NaN</td>\n",
       "      <td>NaN</td>\n",
       "      <td>NaN</td>\n",
       "      <td>...</td>\n",
       "      <td>0.0</td>\n",
       "      <td>18.50</td>\n",
       "      <td>0.05</td>\n",
       "      <td>2.30</td>\n",
       "      <td>92.5</td>\n",
       "      <td>10.0</td>\n",
       "      <td>19.0</td>\n",
       "      <td>0</td>\n",
       "      <td>NaN</td>\n",
       "      <td>NaN</td>\n",
       "    </tr>\n",
       "    <tr>\n",
       "      <th>2889</th>\n",
       "      <td>2020-07-01 01:20:00</td>\n",
       "      <td>20.000000</td>\n",
       "      <td>100261</td>\n",
       "      <td>200875</td>\n",
       "      <td>아놀드파마 티셔츠레깅스세트</td>\n",
       "      <td>의류</td>\n",
       "      <td>69900</td>\n",
       "      <td>아놀드파마</td>\n",
       "      <td>여성의류</td>\n",
       "      <td>블라우스/셔츠</td>\n",
       "      <td>...</td>\n",
       "      <td>0.0</td>\n",
       "      <td>18.50</td>\n",
       "      <td>0.05</td>\n",
       "      <td>2.30</td>\n",
       "      <td>92.5</td>\n",
       "      <td>10.0</td>\n",
       "      <td>19.0</td>\n",
       "      <td>0</td>\n",
       "      <td>133.0</td>\n",
       "      <td>8.948788e+06</td>\n",
       "    </tr>\n",
       "    <tr>\n",
       "      <th>2890</th>\n",
       "      <td>2020-07-01 01:40:00</td>\n",
       "      <td>15.933333</td>\n",
       "      <td>100261</td>\n",
       "      <td>200875</td>\n",
       "      <td>아놀드파마 티셔츠레깅스세트</td>\n",
       "      <td>의류</td>\n",
       "      <td>69900</td>\n",
       "      <td>아놀드파마</td>\n",
       "      <td>여성의류</td>\n",
       "      <td>블라우스/셔츠</td>\n",
       "      <td>...</td>\n",
       "      <td>0.0</td>\n",
       "      <td>18.50</td>\n",
       "      <td>0.05</td>\n",
       "      <td>2.30</td>\n",
       "      <td>92.5</td>\n",
       "      <td>10.0</td>\n",
       "      <td>19.0</td>\n",
       "      <td>0</td>\n",
       "      <td>133.0</td>\n",
       "      <td>3.548357e+06</td>\n",
       "    </tr>\n",
       "  </tbody>\n",
       "</table>\n",
       "<p>2891 rows × 30 columns</p>\n",
       "</div>"
      ],
      "text/plain": [
       "                     방송일시      노출(분)    마더코드    상품코드                   상품명  \\\n",
       "0     2020-06-01 06:20:00  20.000000  100650  201971       잭필드 남성  반팔셔츠 4종   \n",
       "1     2020-06-01 06:40:00  20.000000  100650  201971       잭필드 남성  반팔셔츠 4종   \n",
       "2     2020-06-01 07:00:00  20.000000  100650  201971       잭필드 남성  반팔셔츠 4종   \n",
       "3     2020-06-01 07:20:00  20.000000  100445  202278  쿠미투니카 쿨 레이시 란쥬쉐이퍼&팬티   \n",
       "4     2020-06-01 07:40:00  20.000000  100445  202278  쿠미투니카 쿨 레이시 란쥬쉐이퍼&팬티   \n",
       "...                   ...        ...     ...     ...                   ...   \n",
       "2886  2020-07-01 00:20:00  20.000000  100660  201989       쉴렉스  안마의자 렌탈서비스   \n",
       "2887  2020-07-01 00:40:00  20.000000  100660  201989       쉴렉스  안마의자 렌탈서비스   \n",
       "2888  2020-07-01 01:00:00  20.000000  100660  201989       쉴렉스  안마의자 렌탈서비스   \n",
       "2889  2020-07-01 01:20:00  20.000000  100261  200875        아놀드파마 티셔츠레깅스세트   \n",
       "2890  2020-07-01 01:40:00  15.933333  100261  200875        아놀드파마 티셔츠레깅스세트   \n",
       "\n",
       "     상품군   판매단가    브랜드   중분류      소분류  ... 프라임시간  평균기온(°C)  강수량(mm)  풍속(m/s)  \\\n",
       "0     의류  59800    잭필드  남성의류    셔츠/남방  ...   0.0     16.70     0.10     2.90   \n",
       "1     의류  59800    잭필드  남성의류    셔츠/남방  ...   0.0     16.70     0.10     2.90   \n",
       "2     의류  59800    잭필드  남성의류    셔츠/남방  ...   0.0     16.90     0.00     2.80   \n",
       "3     속옷  69900  쿠미투니카  여성속옷       팬티  ...   1.0     16.90     0.00     2.80   \n",
       "4     속옷  69900  쿠미투니카  여성속옷       팬티  ...   1.0     16.90     0.00     2.80   \n",
       "...   ..    ...    ...   ...      ...  ...   ...       ...      ...      ...   \n",
       "2886  무형      0    NaN   NaN      NaN  ...   0.0     18.35     0.25     2.25   \n",
       "2887  무형      0    NaN   NaN      NaN  ...   0.0     18.35     0.25     2.25   \n",
       "2888  무형      0    NaN   NaN      NaN  ...   0.0     18.50     0.05     2.30   \n",
       "2889  의류  69900  아놀드파마  여성의류  블라우스/셔츠  ...   0.0     18.50     0.05     2.30   \n",
       "2890  의류  69900  아놀드파마  여성의류  블라우스/셔츠  ...   0.0     18.50     0.05     2.30   \n",
       "\n",
       "     습도(%)  전운량(10분위)  체감온도 비옴    뉴스건수           취급액  \n",
       "0     94.5        6.0  16.6  0  1857.0  1.030084e+07  \n",
       "1     94.5        6.0  16.6  0  1857.0  4.163886e+06  \n",
       "2     90.0        6.0  16.9  0  1857.0  5.978534e+06  \n",
       "3     90.0        6.0  16.9  0    75.0  4.386826e+06  \n",
       "4     90.0        6.0  16.9  0    75.0  3.287762e+06  \n",
       "...    ...        ...   ... ..     ...           ...  \n",
       "2886  91.5       10.0  18.8  0     NaN           NaN  \n",
       "2887  91.5       10.0  18.8  0     NaN           NaN  \n",
       "2888  92.5       10.0  19.0  0     NaN           NaN  \n",
       "2889  92.5       10.0  19.0  0   133.0  8.948788e+06  \n",
       "2890  92.5       10.0  19.0  0   133.0  3.548357e+06  \n",
       "\n",
       "[2891 rows x 30 columns]"
      ]
     },
     "execution_count": 66,
     "metadata": {},
     "output_type": "execute_result"
    }
   ],
   "source": [
    "# 편성표 용 데이터 제작(무형 행)\n",
    "test.drop('취급액',axis=1,inplace=True)\n",
    "pair = pd.merge(test, test_data3, left_index=True, right_index=True,how='left').reset_index(drop=True)\n",
    "pair"
   ]
  },
  {
   "cell_type": "code",
   "execution_count": 69,
   "metadata": {
    "ExecuteTime": {
     "end_time": "2020-09-26T11:30:08.682868Z",
     "start_time": "2020-09-26T11:30:08.579148Z"
    }
   },
   "outputs": [],
   "source": [
    "pair.to_csv('data/pair_data.csv',index=False)"
   ]
  },
  {
   "cell_type": "code",
   "execution_count": 423,
   "metadata": {
    "ExecuteTime": {
     "end_time": "2020-09-26T07:56:07.578541Z",
     "start_time": "2020-09-26T07:56:07.087113Z"
    },
    "scrolled": false
   },
   "outputs": [
    {
     "data": {
      "text/html": [
       "<div>\n",
       "<style scoped>\n",
       "    .dataframe tbody tr th:only-of-type {\n",
       "        vertical-align: middle;\n",
       "    }\n",
       "\n",
       "    .dataframe tbody tr th {\n",
       "        vertical-align: top;\n",
       "    }\n",
       "\n",
       "    .dataframe thead th {\n",
       "        text-align: right;\n",
       "    }\n",
       "</style>\n",
       "<table border=\"1\" class=\"dataframe\">\n",
       "  <thead>\n",
       "    <tr style=\"text-align: right;\">\n",
       "      <th></th>\n",
       "      <th>방송일시</th>\n",
       "      <th>노출(분)</th>\n",
       "      <th>마더코드</th>\n",
       "      <th>상품코드</th>\n",
       "      <th>상품명</th>\n",
       "      <th>상품군</th>\n",
       "      <th>판매단가</th>\n",
       "      <th>취급액</th>\n",
       "    </tr>\n",
       "  </thead>\n",
       "  <tbody>\n",
       "    <tr>\n",
       "      <th>0</th>\n",
       "      <td>2020-06-01 06:20:00</td>\n",
       "      <td>20.000000</td>\n",
       "      <td>100650</td>\n",
       "      <td>201971</td>\n",
       "      <td>잭필드 남성  반팔셔츠 4종</td>\n",
       "      <td>의류</td>\n",
       "      <td>59800</td>\n",
       "      <td>NaN</td>\n",
       "    </tr>\n",
       "    <tr>\n",
       "      <th>1</th>\n",
       "      <td>2020-06-01 06:40:00</td>\n",
       "      <td>20.000000</td>\n",
       "      <td>100650</td>\n",
       "      <td>201971</td>\n",
       "      <td>잭필드 남성  반팔셔츠 4종</td>\n",
       "      <td>의류</td>\n",
       "      <td>59800</td>\n",
       "      <td>NaN</td>\n",
       "    </tr>\n",
       "    <tr>\n",
       "      <th>2</th>\n",
       "      <td>2020-06-01 07:00:00</td>\n",
       "      <td>20.000000</td>\n",
       "      <td>100650</td>\n",
       "      <td>201971</td>\n",
       "      <td>잭필드 남성  반팔셔츠 4종</td>\n",
       "      <td>의류</td>\n",
       "      <td>59800</td>\n",
       "      <td>NaN</td>\n",
       "    </tr>\n",
       "    <tr>\n",
       "      <th>3</th>\n",
       "      <td>2020-06-01 07:20:00</td>\n",
       "      <td>20.000000</td>\n",
       "      <td>100445</td>\n",
       "      <td>202278</td>\n",
       "      <td>쿠미투니카 쿨 레이시 란쥬쉐이퍼&amp;팬티</td>\n",
       "      <td>속옷</td>\n",
       "      <td>69900</td>\n",
       "      <td>NaN</td>\n",
       "    </tr>\n",
       "    <tr>\n",
       "      <th>4</th>\n",
       "      <td>2020-06-01 07:40:00</td>\n",
       "      <td>20.000000</td>\n",
       "      <td>100445</td>\n",
       "      <td>202278</td>\n",
       "      <td>쿠미투니카 쿨 레이시 란쥬쉐이퍼&amp;팬티</td>\n",
       "      <td>속옷</td>\n",
       "      <td>69900</td>\n",
       "      <td>NaN</td>\n",
       "    </tr>\n",
       "    <tr>\n",
       "      <th>...</th>\n",
       "      <td>...</td>\n",
       "      <td>...</td>\n",
       "      <td>...</td>\n",
       "      <td>...</td>\n",
       "      <td>...</td>\n",
       "      <td>...</td>\n",
       "      <td>...</td>\n",
       "      <td>...</td>\n",
       "    </tr>\n",
       "    <tr>\n",
       "      <th>2886</th>\n",
       "      <td>2020-07-01 00:20:00</td>\n",
       "      <td>20.000000</td>\n",
       "      <td>100660</td>\n",
       "      <td>201989</td>\n",
       "      <td>쉴렉스  안마의자 렌탈서비스</td>\n",
       "      <td>무형</td>\n",
       "      <td>0</td>\n",
       "      <td>NaN</td>\n",
       "    </tr>\n",
       "    <tr>\n",
       "      <th>2887</th>\n",
       "      <td>2020-07-01 00:40:00</td>\n",
       "      <td>20.000000</td>\n",
       "      <td>100660</td>\n",
       "      <td>201989</td>\n",
       "      <td>쉴렉스  안마의자 렌탈서비스</td>\n",
       "      <td>무형</td>\n",
       "      <td>0</td>\n",
       "      <td>NaN</td>\n",
       "    </tr>\n",
       "    <tr>\n",
       "      <th>2888</th>\n",
       "      <td>2020-07-01 01:00:00</td>\n",
       "      <td>20.000000</td>\n",
       "      <td>100660</td>\n",
       "      <td>201989</td>\n",
       "      <td>쉴렉스  안마의자 렌탈서비스</td>\n",
       "      <td>무형</td>\n",
       "      <td>0</td>\n",
       "      <td>NaN</td>\n",
       "    </tr>\n",
       "    <tr>\n",
       "      <th>2889</th>\n",
       "      <td>2020-07-01 01:20:00</td>\n",
       "      <td>20.000000</td>\n",
       "      <td>100261</td>\n",
       "      <td>200875</td>\n",
       "      <td>아놀드파마 티셔츠레깅스세트</td>\n",
       "      <td>의류</td>\n",
       "      <td>69900</td>\n",
       "      <td>NaN</td>\n",
       "    </tr>\n",
       "    <tr>\n",
       "      <th>2890</th>\n",
       "      <td>2020-07-01 01:40:00</td>\n",
       "      <td>15.933333</td>\n",
       "      <td>100261</td>\n",
       "      <td>200875</td>\n",
       "      <td>아놀드파마 티셔츠레깅스세트</td>\n",
       "      <td>의류</td>\n",
       "      <td>69900</td>\n",
       "      <td>NaN</td>\n",
       "    </tr>\n",
       "  </tbody>\n",
       "</table>\n",
       "<p>2891 rows × 8 columns</p>\n",
       "</div>"
      ],
      "text/plain": [
       "                    방송일시      노출(분)    마더코드    상품코드                   상품명 상품군  \\\n",
       "0    2020-06-01 06:20:00  20.000000  100650  201971       잭필드 남성  반팔셔츠 4종  의류   \n",
       "1    2020-06-01 06:40:00  20.000000  100650  201971       잭필드 남성  반팔셔츠 4종  의류   \n",
       "2    2020-06-01 07:00:00  20.000000  100650  201971       잭필드 남성  반팔셔츠 4종  의류   \n",
       "3    2020-06-01 07:20:00  20.000000  100445  202278  쿠미투니카 쿨 레이시 란쥬쉐이퍼&팬티  속옷   \n",
       "4    2020-06-01 07:40:00  20.000000  100445  202278  쿠미투니카 쿨 레이시 란쥬쉐이퍼&팬티  속옷   \n",
       "...                  ...        ...     ...     ...                   ...  ..   \n",
       "2886 2020-07-01 00:20:00  20.000000  100660  201989       쉴렉스  안마의자 렌탈서비스  무형   \n",
       "2887 2020-07-01 00:40:00  20.000000  100660  201989       쉴렉스  안마의자 렌탈서비스  무형   \n",
       "2888 2020-07-01 01:00:00  20.000000  100660  201989       쉴렉스  안마의자 렌탈서비스  무형   \n",
       "2889 2020-07-01 01:20:00  20.000000  100261  200875        아놀드파마 티셔츠레깅스세트  의류   \n",
       "2890 2020-07-01 01:40:00  15.933333  100261  200875        아놀드파마 티셔츠레깅스세트  의류   \n",
       "\n",
       "       판매단가  취급액  \n",
       "0     59800  NaN  \n",
       "1     59800  NaN  \n",
       "2     59800  NaN  \n",
       "3     69900  NaN  \n",
       "4     69900  NaN  \n",
       "...     ...  ...  \n",
       "2886      0  NaN  \n",
       "2887      0  NaN  \n",
       "2888      0  NaN  \n",
       "2889  69900  NaN  \n",
       "2890  69900  NaN  \n",
       "\n",
       "[2891 rows x 8 columns]"
      ]
     },
     "execution_count": 423,
     "metadata": {},
     "output_type": "execute_result"
    }
   ],
   "source": [
    "# 실제 6월 data에 합병\n",
    "real_test = pd.read_excel('data/2020 빅콘테스트 데이터분석분야-챔피언리그_2020년 6월 판매실적예측데이터(평가데이터).xlsx',header=1)\n",
    "real_test"
   ]
  },
  {
   "cell_type": "code",
   "execution_count": 434,
   "metadata": {
    "ExecuteTime": {
     "end_time": "2020-09-26T08:02:37.661619Z",
     "start_time": "2020-09-26T08:02:37.646661Z"
    }
   },
   "outputs": [],
   "source": [
    "real_test.drop('취급액',axis=1, inplace=True)"
   ]
  },
  {
   "cell_type": "code",
   "execution_count": 435,
   "metadata": {
    "ExecuteTime": {
     "end_time": "2020-09-26T08:02:38.179535Z",
     "start_time": "2020-09-26T08:02:38.158591Z"
    },
    "scrolled": false
   },
   "outputs": [
    {
     "name": "stdout",
     "output_type": "stream",
     "text": [
      "<class 'pandas.core.frame.DataFrame'>\n",
      "RangeIndex: 2891 entries, 0 to 2890\n",
      "Data columns (total 7 columns):\n",
      " #   Column  Non-Null Count  Dtype         \n",
      "---  ------  --------------  -----         \n",
      " 0   방송일시    2891 non-null   datetime64[ns]\n",
      " 1   노출(분)   1780 non-null   float64       \n",
      " 2   마더코드    2891 non-null   int64         \n",
      " 3   상품코드    2891 non-null   int64         \n",
      " 4   상품명     2891 non-null   object        \n",
      " 5   상품군     2891 non-null   object        \n",
      " 6   판매단가    2891 non-null   int64         \n",
      "dtypes: datetime64[ns](1), float64(1), int64(3), object(2)\n",
      "memory usage: 158.2+ KB\n"
     ]
    }
   ],
   "source": [
    "real_test.info()"
   ]
  },
  {
   "cell_type": "code",
   "execution_count": 437,
   "metadata": {
    "ExecuteTime": {
     "end_time": "2020-09-26T08:03:17.829152Z",
     "start_time": "2020-09-26T08:03:17.802224Z"
    }
   },
   "outputs": [
    {
     "data": {
      "text/html": [
       "<div>\n",
       "<style scoped>\n",
       "    .dataframe tbody tr th:only-of-type {\n",
       "        vertical-align: middle;\n",
       "    }\n",
       "\n",
       "    .dataframe tbody tr th {\n",
       "        vertical-align: top;\n",
       "    }\n",
       "\n",
       "    .dataframe thead th {\n",
       "        text-align: right;\n",
       "    }\n",
       "</style>\n",
       "<table border=\"1\" class=\"dataframe\">\n",
       "  <thead>\n",
       "    <tr style=\"text-align: right;\">\n",
       "      <th></th>\n",
       "      <th>방송일시</th>\n",
       "      <th>노출(분)</th>\n",
       "      <th>마더코드</th>\n",
       "      <th>상품코드</th>\n",
       "      <th>상품명</th>\n",
       "      <th>상품군</th>\n",
       "      <th>판매단가</th>\n",
       "    </tr>\n",
       "  </thead>\n",
       "  <tbody>\n",
       "    <tr>\n",
       "      <th>0</th>\n",
       "      <td>2020-06-01 06:20:00</td>\n",
       "      <td>20.000000</td>\n",
       "      <td>100650</td>\n",
       "      <td>201971</td>\n",
       "      <td>잭필드 남성  반팔셔츠 4종</td>\n",
       "      <td>의류</td>\n",
       "      <td>59800</td>\n",
       "    </tr>\n",
       "    <tr>\n",
       "      <th>1</th>\n",
       "      <td>2020-06-01 06:40:00</td>\n",
       "      <td>20.000000</td>\n",
       "      <td>100650</td>\n",
       "      <td>201971</td>\n",
       "      <td>잭필드 남성  반팔셔츠 4종</td>\n",
       "      <td>의류</td>\n",
       "      <td>59800</td>\n",
       "    </tr>\n",
       "    <tr>\n",
       "      <th>2</th>\n",
       "      <td>2020-06-01 07:00:00</td>\n",
       "      <td>20.000000</td>\n",
       "      <td>100650</td>\n",
       "      <td>201971</td>\n",
       "      <td>잭필드 남성  반팔셔츠 4종</td>\n",
       "      <td>의류</td>\n",
       "      <td>59800</td>\n",
       "    </tr>\n",
       "    <tr>\n",
       "      <th>3</th>\n",
       "      <td>2020-06-01 07:20:00</td>\n",
       "      <td>20.000000</td>\n",
       "      <td>100445</td>\n",
       "      <td>202278</td>\n",
       "      <td>쿠미투니카 쿨 레이시 란쥬쉐이퍼&amp;팬티</td>\n",
       "      <td>속옷</td>\n",
       "      <td>69900</td>\n",
       "    </tr>\n",
       "    <tr>\n",
       "      <th>4</th>\n",
       "      <td>2020-06-01 07:40:00</td>\n",
       "      <td>20.000000</td>\n",
       "      <td>100445</td>\n",
       "      <td>202278</td>\n",
       "      <td>쿠미투니카 쿨 레이시 란쥬쉐이퍼&amp;팬티</td>\n",
       "      <td>속옷</td>\n",
       "      <td>69900</td>\n",
       "    </tr>\n",
       "    <tr>\n",
       "      <th>...</th>\n",
       "      <td>...</td>\n",
       "      <td>...</td>\n",
       "      <td>...</td>\n",
       "      <td>...</td>\n",
       "      <td>...</td>\n",
       "      <td>...</td>\n",
       "      <td>...</td>\n",
       "    </tr>\n",
       "    <tr>\n",
       "      <th>2886</th>\n",
       "      <td>2020-07-01 00:20:00</td>\n",
       "      <td>20.000000</td>\n",
       "      <td>100660</td>\n",
       "      <td>201989</td>\n",
       "      <td>쉴렉스  안마의자 렌탈서비스</td>\n",
       "      <td>무형</td>\n",
       "      <td>0</td>\n",
       "    </tr>\n",
       "    <tr>\n",
       "      <th>2887</th>\n",
       "      <td>2020-07-01 00:40:00</td>\n",
       "      <td>20.000000</td>\n",
       "      <td>100660</td>\n",
       "      <td>201989</td>\n",
       "      <td>쉴렉스  안마의자 렌탈서비스</td>\n",
       "      <td>무형</td>\n",
       "      <td>0</td>\n",
       "    </tr>\n",
       "    <tr>\n",
       "      <th>2888</th>\n",
       "      <td>2020-07-01 01:00:00</td>\n",
       "      <td>20.000000</td>\n",
       "      <td>100660</td>\n",
       "      <td>201989</td>\n",
       "      <td>쉴렉스  안마의자 렌탈서비스</td>\n",
       "      <td>무형</td>\n",
       "      <td>0</td>\n",
       "    </tr>\n",
       "    <tr>\n",
       "      <th>2889</th>\n",
       "      <td>2020-07-01 01:20:00</td>\n",
       "      <td>20.000000</td>\n",
       "      <td>100261</td>\n",
       "      <td>200875</td>\n",
       "      <td>아놀드파마 티셔츠레깅스세트</td>\n",
       "      <td>의류</td>\n",
       "      <td>69900</td>\n",
       "    </tr>\n",
       "    <tr>\n",
       "      <th>2890</th>\n",
       "      <td>2020-07-01 01:40:00</td>\n",
       "      <td>15.933333</td>\n",
       "      <td>100261</td>\n",
       "      <td>200875</td>\n",
       "      <td>아놀드파마 티셔츠레깅스세트</td>\n",
       "      <td>의류</td>\n",
       "      <td>69900</td>\n",
       "    </tr>\n",
       "  </tbody>\n",
       "</table>\n",
       "<p>2891 rows × 7 columns</p>\n",
       "</div>"
      ],
      "text/plain": [
       "                    방송일시      노출(분)    마더코드    상품코드                   상품명 상품군  \\\n",
       "0    2020-06-01 06:20:00  20.000000  100650  201971       잭필드 남성  반팔셔츠 4종  의류   \n",
       "1    2020-06-01 06:40:00  20.000000  100650  201971       잭필드 남성  반팔셔츠 4종  의류   \n",
       "2    2020-06-01 07:00:00  20.000000  100650  201971       잭필드 남성  반팔셔츠 4종  의류   \n",
       "3    2020-06-01 07:20:00  20.000000  100445  202278  쿠미투니카 쿨 레이시 란쥬쉐이퍼&팬티  속옷   \n",
       "4    2020-06-01 07:40:00  20.000000  100445  202278  쿠미투니카 쿨 레이시 란쥬쉐이퍼&팬티  속옷   \n",
       "...                  ...        ...     ...     ...                   ...  ..   \n",
       "2886 2020-07-01 00:20:00  20.000000  100660  201989       쉴렉스  안마의자 렌탈서비스  무형   \n",
       "2887 2020-07-01 00:40:00  20.000000  100660  201989       쉴렉스  안마의자 렌탈서비스  무형   \n",
       "2888 2020-07-01 01:00:00  20.000000  100660  201989       쉴렉스  안마의자 렌탈서비스  무형   \n",
       "2889 2020-07-01 01:20:00  20.000000  100261  200875        아놀드파마 티셔츠레깅스세트  의류   \n",
       "2890 2020-07-01 01:40:00  15.933333  100261  200875        아놀드파마 티셔츠레깅스세트  의류   \n",
       "\n",
       "       판매단가  \n",
       "0     59800  \n",
       "1     59800  \n",
       "2     59800  \n",
       "3     69900  \n",
       "4     69900  \n",
       "...     ...  \n",
       "2886      0  \n",
       "2887      0  \n",
       "2888      0  \n",
       "2889  69900  \n",
       "2890  69900  \n",
       "\n",
       "[2891 rows x 7 columns]"
      ]
     },
     "execution_count": 437,
     "metadata": {},
     "output_type": "execute_result"
    }
   ],
   "source": [
    "real_test"
   ]
  },
  {
   "cell_type": "code",
   "execution_count": 449,
   "metadata": {
    "ExecuteTime": {
     "end_time": "2020-09-26T08:12:21.254146Z",
     "start_time": "2020-09-26T08:12:21.212259Z"
    },
    "scrolled": false
   },
   "outputs": [
    {
     "data": {
      "text/html": [
       "<div>\n",
       "<style scoped>\n",
       "    .dataframe tbody tr th:only-of-type {\n",
       "        vertical-align: middle;\n",
       "    }\n",
       "\n",
       "    .dataframe tbody tr th {\n",
       "        vertical-align: top;\n",
       "    }\n",
       "\n",
       "    .dataframe thead th {\n",
       "        text-align: right;\n",
       "    }\n",
       "</style>\n",
       "<table border=\"1\" class=\"dataframe\">\n",
       "  <thead>\n",
       "    <tr style=\"text-align: right;\">\n",
       "      <th></th>\n",
       "      <th>방송일시</th>\n",
       "      <th>노출(분)</th>\n",
       "      <th>마더코드</th>\n",
       "      <th>상품코드</th>\n",
       "      <th>상품명</th>\n",
       "      <th>상품군</th>\n",
       "      <th>판매단가</th>\n",
       "      <th>취급액</th>\n",
       "    </tr>\n",
       "  </thead>\n",
       "  <tbody>\n",
       "    <tr>\n",
       "      <th>0</th>\n",
       "      <td>2020-06-01 06:20:00</td>\n",
       "      <td>20.000000</td>\n",
       "      <td>100650</td>\n",
       "      <td>201971</td>\n",
       "      <td>잭필드 남성  반팔셔츠 4종</td>\n",
       "      <td>의류</td>\n",
       "      <td>59800</td>\n",
       "      <td>1.030084e+07</td>\n",
       "    </tr>\n",
       "    <tr>\n",
       "      <th>1</th>\n",
       "      <td>2020-06-01 06:40:00</td>\n",
       "      <td>20.000000</td>\n",
       "      <td>100650</td>\n",
       "      <td>201971</td>\n",
       "      <td>잭필드 남성  반팔셔츠 4종</td>\n",
       "      <td>의류</td>\n",
       "      <td>59800</td>\n",
       "      <td>4.163886e+06</td>\n",
       "    </tr>\n",
       "    <tr>\n",
       "      <th>2</th>\n",
       "      <td>2020-06-01 07:00:00</td>\n",
       "      <td>20.000000</td>\n",
       "      <td>100650</td>\n",
       "      <td>201971</td>\n",
       "      <td>잭필드 남성  반팔셔츠 4종</td>\n",
       "      <td>의류</td>\n",
       "      <td>59800</td>\n",
       "      <td>5.978534e+06</td>\n",
       "    </tr>\n",
       "    <tr>\n",
       "      <th>3</th>\n",
       "      <td>2020-06-01 07:20:00</td>\n",
       "      <td>20.000000</td>\n",
       "      <td>100445</td>\n",
       "      <td>202278</td>\n",
       "      <td>쿠미투니카 쿨 레이시 란쥬쉐이퍼&amp;팬티</td>\n",
       "      <td>속옷</td>\n",
       "      <td>69900</td>\n",
       "      <td>4.386826e+06</td>\n",
       "    </tr>\n",
       "    <tr>\n",
       "      <th>4</th>\n",
       "      <td>2020-06-01 07:40:00</td>\n",
       "      <td>20.000000</td>\n",
       "      <td>100445</td>\n",
       "      <td>202278</td>\n",
       "      <td>쿠미투니카 쿨 레이시 란쥬쉐이퍼&amp;팬티</td>\n",
       "      <td>속옷</td>\n",
       "      <td>69900</td>\n",
       "      <td>3.287762e+06</td>\n",
       "    </tr>\n",
       "    <tr>\n",
       "      <th>...</th>\n",
       "      <td>...</td>\n",
       "      <td>...</td>\n",
       "      <td>...</td>\n",
       "      <td>...</td>\n",
       "      <td>...</td>\n",
       "      <td>...</td>\n",
       "      <td>...</td>\n",
       "      <td>...</td>\n",
       "    </tr>\n",
       "    <tr>\n",
       "      <th>2886</th>\n",
       "      <td>2020-07-01 00:20:00</td>\n",
       "      <td>20.000000</td>\n",
       "      <td>100660</td>\n",
       "      <td>201989</td>\n",
       "      <td>쉴렉스  안마의자 렌탈서비스</td>\n",
       "      <td>무형</td>\n",
       "      <td>0</td>\n",
       "      <td>NaN</td>\n",
       "    </tr>\n",
       "    <tr>\n",
       "      <th>2887</th>\n",
       "      <td>2020-07-01 00:40:00</td>\n",
       "      <td>20.000000</td>\n",
       "      <td>100660</td>\n",
       "      <td>201989</td>\n",
       "      <td>쉴렉스  안마의자 렌탈서비스</td>\n",
       "      <td>무형</td>\n",
       "      <td>0</td>\n",
       "      <td>NaN</td>\n",
       "    </tr>\n",
       "    <tr>\n",
       "      <th>2888</th>\n",
       "      <td>2020-07-01 01:00:00</td>\n",
       "      <td>20.000000</td>\n",
       "      <td>100660</td>\n",
       "      <td>201989</td>\n",
       "      <td>쉴렉스  안마의자 렌탈서비스</td>\n",
       "      <td>무형</td>\n",
       "      <td>0</td>\n",
       "      <td>NaN</td>\n",
       "    </tr>\n",
       "    <tr>\n",
       "      <th>2889</th>\n",
       "      <td>2020-07-01 01:20:00</td>\n",
       "      <td>20.000000</td>\n",
       "      <td>100261</td>\n",
       "      <td>200875</td>\n",
       "      <td>아놀드파마 티셔츠레깅스세트</td>\n",
       "      <td>의류</td>\n",
       "      <td>69900</td>\n",
       "      <td>8.948788e+06</td>\n",
       "    </tr>\n",
       "    <tr>\n",
       "      <th>2890</th>\n",
       "      <td>2020-07-01 01:40:00</td>\n",
       "      <td>15.933333</td>\n",
       "      <td>100261</td>\n",
       "      <td>200875</td>\n",
       "      <td>아놀드파마 티셔츠레깅스세트</td>\n",
       "      <td>의류</td>\n",
       "      <td>69900</td>\n",
       "      <td>3.548357e+06</td>\n",
       "    </tr>\n",
       "  </tbody>\n",
       "</table>\n",
       "<p>2891 rows × 8 columns</p>\n",
       "</div>"
      ],
      "text/plain": [
       "                    방송일시      노출(분)    마더코드    상품코드                   상품명 상품군  \\\n",
       "0    2020-06-01 06:20:00  20.000000  100650  201971       잭필드 남성  반팔셔츠 4종  의류   \n",
       "1    2020-06-01 06:40:00  20.000000  100650  201971       잭필드 남성  반팔셔츠 4종  의류   \n",
       "2    2020-06-01 07:00:00  20.000000  100650  201971       잭필드 남성  반팔셔츠 4종  의류   \n",
       "3    2020-06-01 07:20:00  20.000000  100445  202278  쿠미투니카 쿨 레이시 란쥬쉐이퍼&팬티  속옷   \n",
       "4    2020-06-01 07:40:00  20.000000  100445  202278  쿠미투니카 쿨 레이시 란쥬쉐이퍼&팬티  속옷   \n",
       "...                  ...        ...     ...     ...                   ...  ..   \n",
       "2886 2020-07-01 00:20:00  20.000000  100660  201989       쉴렉스  안마의자 렌탈서비스  무형   \n",
       "2887 2020-07-01 00:40:00  20.000000  100660  201989       쉴렉스  안마의자 렌탈서비스  무형   \n",
       "2888 2020-07-01 01:00:00  20.000000  100660  201989       쉴렉스  안마의자 렌탈서비스  무형   \n",
       "2889 2020-07-01 01:20:00  20.000000  100261  200875        아놀드파마 티셔츠레깅스세트  의류   \n",
       "2890 2020-07-01 01:40:00  15.933333  100261  200875        아놀드파마 티셔츠레깅스세트  의류   \n",
       "\n",
       "       판매단가           취급액  \n",
       "0     59800  1.030084e+07  \n",
       "1     59800  4.163886e+06  \n",
       "2     59800  5.978534e+06  \n",
       "3     69900  4.386826e+06  \n",
       "4     69900  3.287762e+06  \n",
       "...     ...           ...  \n",
       "2886      0           NaN  \n",
       "2887      0           NaN  \n",
       "2888      0           NaN  \n",
       "2889  69900  8.948788e+06  \n",
       "2890  69900  3.548357e+06  \n",
       "\n",
       "[2891 rows x 8 columns]"
      ]
     },
     "execution_count": 449,
     "metadata": {},
     "output_type": "execute_result"
    }
   ],
   "source": [
    "result = pd.merge(real_test, test_data3, left_index=True, right_index=True,how='left').reset_index(drop=True)\n",
    "result"
   ]
  },
  {
   "cell_type": "code",
   "execution_count": 453,
   "metadata": {
    "ExecuteTime": {
     "end_time": "2020-09-26T08:13:24.184314Z",
     "start_time": "2020-09-26T08:13:24.157384Z"
    }
   },
   "outputs": [
    {
     "name": "stdout",
     "output_type": "stream",
     "text": [
      "<class 'pandas.core.frame.DataFrame'>\n",
      "RangeIndex: 2891 entries, 0 to 2890\n",
      "Data columns (total 8 columns):\n",
      " #   Column  Non-Null Count  Dtype         \n",
      "---  ------  --------------  -----         \n",
      " 0   방송일시    2891 non-null   datetime64[ns]\n",
      " 1   노출(분)   1780 non-null   float64       \n",
      " 2   마더코드    2891 non-null   int64         \n",
      " 3   상품코드    2891 non-null   int64         \n",
      " 4   상품명     2891 non-null   object        \n",
      " 5   상품군     2891 non-null   object        \n",
      " 6   판매단가    2891 non-null   int64         \n",
      " 7   취급액     2716 non-null   float64       \n",
      "dtypes: datetime64[ns](1), float64(2), int64(3), object(2)\n",
      "memory usage: 180.8+ KB\n"
     ]
    }
   ],
   "source": [
    "result.info()"
   ]
  },
  {
   "cell_type": "code",
   "execution_count": 455,
   "metadata": {
    "ExecuteTime": {
     "end_time": "2020-09-26T08:14:57.195300Z",
     "start_time": "2020-09-26T08:14:57.111585Z"
    }
   },
   "outputs": [],
   "source": [
    "result.to_csv('data/result.csv', index=False)"
   ]
  }
 ],
 "metadata": {
  "kernelspec": {
   "display_name": "Python 3",
   "language": "python",
   "name": "python3"
  },
  "language_info": {
   "codemirror_mode": {
    "name": "ipython",
    "version": 3
   },
   "file_extension": ".py",
   "mimetype": "text/x-python",
   "name": "python",
   "nbconvert_exporter": "python",
   "pygments_lexer": "ipython3",
   "version": "3.8.3"
  },
  "toc": {
   "base_numbering": 1,
   "nav_menu": {},
   "number_sections": true,
   "sideBar": true,
   "skip_h1_title": false,
   "title_cell": "Table of Contents",
   "title_sidebar": "Contents",
   "toc_cell": false,
   "toc_position": {
    "height": "322.925px",
    "left": "80px",
    "top": "77.7327px",
    "width": "165px"
   },
   "toc_section_display": true,
   "toc_window_display": true
  },
  "varInspector": {
   "cols": {
    "lenName": 16,
    "lenType": 16,
    "lenVar": 40
   },
   "kernels_config": {
    "python": {
     "delete_cmd_postfix": "",
     "delete_cmd_prefix": "del ",
     "library": "var_list.py",
     "varRefreshCmd": "print(var_dic_list())"
    },
    "r": {
     "delete_cmd_postfix": ") ",
     "delete_cmd_prefix": "rm(",
     "library": "var_list.r",
     "varRefreshCmd": "cat(var_dic_list()) "
    }
   },
   "types_to_exclude": [
    "module",
    "function",
    "builtin_function_or_method",
    "instance",
    "_Feature"
   ],
   "window_display": false
  }
 },
 "nbformat": 4,
 "nbformat_minor": 4
}
